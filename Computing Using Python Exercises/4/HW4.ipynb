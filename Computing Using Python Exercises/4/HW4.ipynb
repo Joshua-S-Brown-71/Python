{
 "cells": [
  {
   "cell_type": "code",
   "execution_count": 30,
   "id": "d7f15f25",
   "metadata": {},
   "outputs": [
    {
     "name": "stdout",
     "output_type": "stream",
     "text": [
      "How many emails would you like to enter?: 3\n",
      "Enter email: 1@student.college.edu\n",
      "Enter email: 21@student.college.edu\n",
      "Enter email: 31@student.college.edu\n",
      "All of the emaill address are student emails\n"
     ]
    }
   ],
   "source": [
    "flag=-1\n",
    "count= int(input(\"How many emails would you like to enter?: \"))\n",
    "for x in range(count):\n",
    "    email=input(\"Enter email: \")\n",
    "    if \"@prof.college.edu\" in email:\n",
    "        flag=1\n",
    "if flag==1:\n",
    "    print(\"There were some professor email addresses entered\")     \n",
    "else:\n",
    "    print(\"All of the emaill address are student emails\")"
   ]
  },
  {
   "cell_type": "code",
   "execution_count": 32,
   "id": "7eb6454d",
   "metadata": {},
   "outputs": [
    {
     "name": "stdout",
     "output_type": "stream",
     "text": [
      "How many emails would you like to enter?: 3\n",
      "Enter email: 1@student.college.edu\n",
      "Enter email: 2@prof.college.edu\n",
      "Enter email: 3@student.college.edu\n",
      "There were some professor email addresses entered\n"
     ]
    }
   ],
   "source": [
    "flag=-1\n",
    "count= int(input(\"How many emails would you like to enter?: \"))\n",
    "for x in range(count):\n",
    "    email=input(\"Enter email: \")\n",
    "    if \"@prof.college.edu\" in email:\n",
    "        flag=1\n",
    "if flag==1:\n",
    "    print(\"There were some professor email addresses entered\")     \n",
    "else:\n",
    "    print(\"All of the emaill address are student emails\")"
   ]
  },
  {
   "cell_type": "code",
   "execution_count": 20,
   "id": "90f02994",
   "metadata": {},
   "outputs": [
    {
     "name": "stdout",
     "output_type": "stream",
     "text": [
      "Enter a word: rhinoceros\n",
      "rHiNoCeRoS\n"
     ]
    }
   ],
   "source": [
    "word=\"\"\n",
    "word2=\"\"\n",
    "word=input(\"Enter a word: \")\n",
    "word=word.lower()\n",
    "for i in range(len(word)):\n",
    "    if (i%2)!=0:\n",
    "        word2+=word[i].upper()\n",
    "    else:\n",
    "        word2+=word[i]\n",
    "print(word2)"
   ]
  },
  {
   "cell_type": "code",
   "execution_count": 18,
   "id": "4bedbf9f",
   "metadata": {},
   "outputs": [
    {
     "name": "stdout",
     "output_type": "stream",
     "text": [
      "Enter your name in lowercase: josh josh josh josh\n",
      "Josh Josh Josh Josh\n"
     ]
    }
   ],
   "source": [
    "name=\"\"\n",
    "name2=\"\"\n",
    "name=input(\"Enter your name in lowercase: \")\n",
    "name=name.lower()\n",
    "for n in range(len(name)):\n",
    "    if n==0:\n",
    "        name2+=name[n].upper()\n",
    "    elif name[n-1]==\" \":\n",
    "        name2+=name[n].upper()\n",
    "    else:\n",
    "        name2+=name[n]\n",
    "print(name2)"
   ]
  },
  {
   "cell_type": "code",
   "execution_count": null,
   "id": "0ff6d892",
   "metadata": {},
   "outputs": [],
   "source": []
  }
 ],
 "metadata": {
  "kernelspec": {
   "display_name": "Python 3 (ipykernel)",
   "language": "python",
   "name": "python3"
  },
  "language_info": {
   "codemirror_mode": {
    "name": "ipython",
    "version": 3
   },
   "file_extension": ".py",
   "mimetype": "text/x-python",
   "name": "python",
   "nbconvert_exporter": "python",
   "pygments_lexer": "ipython3",
   "version": "3.10.9"
  }
 },
 "nbformat": 4,
 "nbformat_minor": 5
}
