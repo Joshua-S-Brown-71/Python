{
 "cells": [
  {
   "cell_type": "code",
   "execution_count": 1,
   "id": "ce444879",
   "metadata": {},
   "outputs": [
    {
     "name": "stdout",
     "output_type": "stream",
     "text": [
      "Enter the weight in kilograms: 20\n",
      "The wieght in pounds is:  44.0\n"
     ]
    }
   ],
   "source": [
    "kg=float(input(\"Enter the weight in kilograms: \"))\n",
    "print(\"The wieght in pounds is: \",kg*2.2)"
   ]
  },
  {
   "cell_type": "code",
   "execution_count": 2,
   "id": "0304fae7",
   "metadata": {},
   "outputs": [
    {
     "name": "stdout",
     "output_type": "stream",
     "text": [
      "Enter the first variable: 44\n",
      "Total:  44 Average:  44.0\n",
      "Enter the second variable: 55\n",
      "Total:  99 Average:  49.5\n",
      "Enter the third variable: 66\n",
      "Total:  165 Average:  55.0\n"
     ]
    }
   ],
   "source": [
    "Count=0\n",
    "Total=0\n",
    "Avg=0\n",
    "V1=int(input(\"Enter the first variable: \"))\n",
    "Count+=1 \n",
    "Total+=V1\n",
    "Avg=Total/Count\n",
    "print(\"Total: \",Total,\"Average: \",Avg)\n",
    "V2=int(input(\"Enter the second variable: \"))\n",
    "Count+=1\n",
    "Total+=V2\n",
    "Avg=Total/Count\n",
    "print(\"Total: \",Total,\"Average: \",Avg)\n",
    "V3=int(input(\"Enter the third variable: \"))\n",
    "Count+=1\n",
    "Total+=V3\n",
    "Avg=Total/Count\n",
    "print(\"Total: \",Total,\"Average: \",Avg)\n"
   ]
  },
  {
   "cell_type": "code",
   "execution_count": 3,
   "id": "0e42e0ef",
   "metadata": {},
   "outputs": [
    {
     "name": "stdout",
     "output_type": "stream",
     "text": [
      "Enter the total: 100\n",
      "enter the tip percentage: 45\n",
      "The tip amount is:  45.0\n",
      "The total amount is:  145.0\n"
     ]
    }
   ],
   "source": [
    "total=float(input(\"Enter the total: \"))\n",
    "tip=int(input(\"enter the tip percentage: \"))\n",
    "print(\"The tip amount is: \",(tip/100)*total)\n",
    "print(\"The total amount is: \",((tip/100)*total)+total)"
   ]
  },
  {
   "cell_type": "code",
   "execution_count": 4,
   "id": "972a58d7",
   "metadata": {},
   "outputs": [
    {
     "name": "stdout",
     "output_type": "stream",
     "text": [
      "100\n",
      "98\n",
      "96\n",
      "94\n",
      "92\n",
      "90\n",
      "88\n",
      "86\n",
      "84\n",
      "82\n",
      "80\n",
      "78\n",
      "76\n",
      "74\n",
      "72\n",
      "70\n",
      "68\n",
      "66\n",
      "64\n",
      "62\n",
      "60\n",
      "58\n",
      "56\n",
      "54\n",
      "52\n",
      "50\n",
      "48\n",
      "46\n",
      "44\n",
      "42\n",
      "40\n",
      "38\n",
      "36\n",
      "34\n",
      "32\n",
      "30\n",
      "28\n",
      "26\n",
      "24\n",
      "22\n",
      "20\n",
      "18\n",
      "16\n",
      "14\n",
      "12\n",
      "10\n",
      "8\n",
      "6\n",
      "4\n",
      "2\n"
     ]
    }
   ],
   "source": [
    "for k in range(100,0,-2):\n",
    "    print(k)"
   ]
  },
  {
   "cell_type": "code",
   "execution_count": 5,
   "id": "ba6d90c9",
   "metadata": {},
   "outputs": [
    {
     "name": "stdout",
     "output_type": "stream",
     "text": [
      "How high should the triangle be?: 5\n",
      "*****\n",
      "****\n",
      "***\n",
      "**\n",
      "*\n"
     ]
    }
   ],
   "source": [
    "T = int(input(\"How high should the triangle be?: \"))\n",
    "for k in range(T,0,-1):\n",
    "    print(k*\"*\")"
   ]
  },
  {
   "cell_type": "code",
   "execution_count": null,
   "id": "ab05a305",
   "metadata": {},
   "outputs": [],
   "source": []
  }
 ],
 "metadata": {
  "kernelspec": {
   "display_name": "Python 3 (ipykernel)",
   "language": "python",
   "name": "python3"
  },
  "language_info": {
   "codemirror_mode": {
    "name": "ipython",
    "version": 3
   },
   "file_extension": ".py",
   "mimetype": "text/x-python",
   "name": "python",
   "nbconvert_exporter": "python",
   "pygments_lexer": "ipython3",
   "version": "3.10.9"
  }
 },
 "nbformat": 4,
 "nbformat_minor": 5
}
