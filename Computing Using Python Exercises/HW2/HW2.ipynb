{
 "cells": [
  {
   "cell_type": "code",
   "execution_count": 1,
   "id": "a6f9d726",
   "metadata": {},
   "outputs": [
    {
     "name": "stdout",
     "output_type": "stream",
     "text": [
      "Enter the number of seconds: 333\n",
      "333  seconds is  5  minutes and  33  seconds\n"
     ]
    }
   ],
   "source": [
    "sec=int(input(\"Enter the number of seconds: \"))\n",
    "min=sec//60\n",
    "remsec=sec%60\n",
    "print(sec,\" seconds is \",min,\" minutes and \",remsec,\" seconds\")"
   ]
  },
  {
   "cell_type": "code",
   "execution_count": 3,
   "id": "61637062",
   "metadata": {},
   "outputs": [
    {
     "name": "stdout",
     "output_type": "stream",
     "text": [
      "Enter a number: 7\n",
      "7  factorial is:  5040\n"
     ]
    }
   ],
   "source": [
    "inp=int(input(\"Enter a number: \"))\n",
    "fac=inp\n",
    "for k in range((inp-1),1,-1):\n",
    "        fac*=k\n",
    "print(inp,\" factorial is: \",fac)\n"
   ]
  },
  {
   "cell_type": "code",
   "execution_count": 4,
   "id": "ea351524",
   "metadata": {},
   "outputs": [
    {
     "name": "stdout",
     "output_type": "stream",
     "text": [
      "Enter an angle in degrees: 57\n",
      "The sin of the angle is : 0.83867\n"
     ]
    }
   ],
   "source": [
    "from math import sin, cos, pi, radians\n",
    "\n",
    "deg=int(input(\"Enter an angle in degrees: \"))\n",
    "print(\"The sin of the angle is :\",round(sin(deg*pi/180),5))\n",
    "\n"
   ]
  },
  {
   "cell_type": "code",
   "execution_count": 5,
   "id": "b5a7b1e9",
   "metadata": {},
   "outputs": [
    {
     "name": "stdout",
     "output_type": "stream",
     "text": [
      "Enter the temperature: 70\n",
      "What unit is the temperature in? \n",
      " 0 = Celsius \n",
      " 1 = Fahrenheit1\n",
      "70   Fahrenheit  =  21.111   Celsius\n"
     ]
    }
   ],
   "source": [
    "temp=int(input(\"Enter the temperature: \"))\n",
    "flag=int(input(\"What unit is the temperature in? \\n 0 = Celsius \\n 1 = Fahrenheit\"))\n",
    "if flag == 0:\n",
    "    unit1= \"Celsius\"\n",
    "    unit2= \"Fahrenheit\"\n",
    "    ftemp=round((((9/5)*temp)+32),3) \n",
    "elif flag == 1:\n",
    "    unit2= \"Celsius\"\n",
    "    unit1= \"Fahrenheit\"\n",
    "    ftemp=round((5/9)*(temp-32),3)\n",
    "else:\n",
    "    print(\"Try again\")\n",
    "print(temp,\" \",unit1, \" = \",ftemp,\" \",unit2)\n",
    "\n",
    "    \n"
   ]
  },
  {
   "cell_type": "code",
   "execution_count": 6,
   "id": "fc6ede2c",
   "metadata": {},
   "outputs": [
    {
     "name": "stdout",
     "output_type": "stream",
     "text": [
      "Enter the number of credits: 65\n",
      "The student is a junior\n"
     ]
    }
   ],
   "source": [
    "cred=int(input(\"Enter the number of credits: \"))\n",
    "if cred<=23:\n",
    "    print(\"The student is a freshman\")\n",
    "elif cred>=24 and cred<=53:\n",
    "    print(\"The student is a sophomore\")\n",
    "elif cred>=54 and cred<=83:\n",
    "    print(\"The student is a junior\")\n",
    "elif cred>=84:\n",
    "    print(\"The student is a senior\")\n",
    "else:\n",
    "    print(\"Try again\")"
   ]
  },
  {
   "cell_type": "code",
   "execution_count": 7,
   "id": "afee17fa",
   "metadata": {},
   "outputs": [
    {
     "name": "stdout",
     "output_type": "stream",
     "text": [
      "Enter the year: 2000\n",
      "leap year\n"
     ]
    }
   ],
   "source": [
    "year=int(input(\"Enter the year: \"))\n",
    "if year%4==0:\n",
    "    if year%100==0 and year%400!=0:\n",
    "        print(\"not leap year\")\n",
    "    elif year%100==0 and year%400==0:\n",
    "        print(\"leap year\")\n",
    "    else:\n",
    "        print(\"leap year\")  \n",
    "elif year%4!=0:\n",
    "    print(\"not leap year\")\n",
    "    "
   ]
  },
  {
   "cell_type": "code",
   "execution_count": null,
   "id": "08746084",
   "metadata": {},
   "outputs": [],
   "source": []
  }
 ],
 "metadata": {
  "kernelspec": {
   "display_name": "Python 3 (ipykernel)",
   "language": "python",
   "name": "python3"
  },
  "language_info": {
   "codemirror_mode": {
    "name": "ipython",
    "version": 3
   },
   "file_extension": ".py",
   "mimetype": "text/x-python",
   "name": "python",
   "nbconvert_exporter": "python",
   "pygments_lexer": "ipython3",
   "version": "3.10.9"
  }
 },
 "nbformat": 4,
 "nbformat_minor": 5
}
