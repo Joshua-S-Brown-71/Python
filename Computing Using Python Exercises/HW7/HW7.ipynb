{
 "cells": [
  {
   "cell_type": "code",
   "execution_count": null,
   "id": "18644f4b",
   "metadata": {},
   "outputs": [],
   "source": [
    "# 1. Write a program that allows the user to enter any number of test scores. The user indicates they are done\n",
    "by entering in a negative number. Print how many of the scores are A's (90 or above). Also print out the\n",
    "average."
   ]
  },
  {
   "cell_type": "code",
   "execution_count": 1,
   "id": "7219c4f8",
   "metadata": {},
   "outputs": [
    {
     "name": "stdout",
     "output_type": "stream",
     "text": [
      "Enter a score : 60\n",
      "Enter a score : 60\n",
      "Enter a score : 70\n",
      "Enter a score : 70\n",
      "Enter a score : 80\n",
      "Enter a score : 80\n",
      "Enter a score : 90\n",
      "Enter a score : 90\n",
      "Enter a score : 100\n",
      "Enter a score : 100\n",
      "Enter a score : -1\n",
      "Number of A's : 4\n",
      "avg of list:  80.0\n"
     ]
    }
   ],
   "source": [
    "sl=[]\n",
    "score=0\n",
    "As=0\n",
    "while score>=0:\n",
    "    score=int(input(\"Enter a score : \"))\n",
    "    if score>=0:     \n",
    "        if score>=90:\n",
    "            As+=1\n",
    "        sl.append(score)\n",
    "print(\"Number of A's :\",As)\n",
    "print(\"avg of list: \",(sum(sl)/len(sl)))"
   ]
  },
  {
   "cell_type": "code",
   "execution_count": null,
   "id": "07387947",
   "metadata": {},
   "outputs": [],
   "source": [
    "2. Write a program to determine how many zeroes 1000! ends with."
   ]
  },
  {
   "cell_type": "code",
   "execution_count": 2,
   "id": "d06c6fab",
   "metadata": {},
   "outputs": [
    {
     "name": "stdout",
     "output_type": "stream",
     "text": [
      "3\n"
     ]
    }
   ],
   "source": [
    "inp=\"1000!\"\n",
    "count=inp.count('0')\n",
    "print(count)"
   ]
  },
  {
   "cell_type": "code",
   "execution_count": null,
   "id": "c3f42ee3",
   "metadata": {},
   "outputs": [],
   "source": [
    "3. Use the following two lists and the format method to create a list of card names in the format card value\n",
    "of suit name (for example, Two of Clubs)."
   ]
  },
  {
   "cell_type": "code",
   "execution_count": 3,
   "id": "d6ee22d8",
   "metadata": {},
   "outputs": [
    {
     "name": "stdout",
     "output_type": "stream",
     "text": [
      "One  of  Hearts\n",
      "Two  of  Hearts\n",
      "Three  of  Hearts\n",
      "Four  of  Hearts\n",
      "Five  of  Hearts\n",
      "Six  of  Hearts\n",
      "Seven  of  Hearts\n",
      "Eight  of  Hearts\n",
      "Nine  of  Hearts\n",
      "Ten  of  Hearts\n",
      "Jack  of  Hearts\n",
      "Queen  of  Hearts\n",
      "King  of  Hearts\n",
      "Ace  of  Hearts\n",
      "One  of  Diamonds\n",
      "Two  of  Diamonds\n",
      "Three  of  Diamonds\n",
      "Four  of  Diamonds\n",
      "Five  of  Diamonds\n",
      "Six  of  Diamonds\n",
      "Seven  of  Diamonds\n",
      "Eight  of  Diamonds\n",
      "Nine  of  Diamonds\n",
      "Ten  of  Diamonds\n",
      "Jack  of  Diamonds\n",
      "Queen  of  Diamonds\n",
      "King  of  Diamonds\n",
      "Ace  of  Diamonds\n",
      "One  of  Clubs\n",
      "Two  of  Clubs\n",
      "Three  of  Clubs\n",
      "Four  of  Clubs\n",
      "Five  of  Clubs\n",
      "Six  of  Clubs\n",
      "Seven  of  Clubs\n",
      "Eight  of  Clubs\n",
      "Nine  of  Clubs\n",
      "Ten  of  Clubs\n",
      "Jack  of  Clubs\n",
      "Queen  of  Clubs\n",
      "King  of  Clubs\n",
      "Ace  of  Clubs\n",
      "One  of  Spades\n",
      "Two  of  Spades\n",
      "Three  of  Spades\n",
      "Four  of  Spades\n",
      "Five  of  Spades\n",
      "Six  of  Spades\n",
      "Seven  of  Spades\n",
      "Eight  of  Spades\n",
      "Nine  of  Spades\n",
      "Ten  of  Spades\n",
      "Jack  of  Spades\n",
      "Queen  of  Spades\n",
      "King  of  Spades\n",
      "Ace  of  Spades\n"
     ]
    },
    {
     "data": {
      "text/plain": [
       "[None,\n",
       " None,\n",
       " None,\n",
       " None,\n",
       " None,\n",
       " None,\n",
       " None,\n",
       " None,\n",
       " None,\n",
       " None,\n",
       " None,\n",
       " None,\n",
       " None,\n",
       " None,\n",
       " None,\n",
       " None,\n",
       " None,\n",
       " None,\n",
       " None,\n",
       " None,\n",
       " None,\n",
       " None,\n",
       " None,\n",
       " None,\n",
       " None,\n",
       " None,\n",
       " None,\n",
       " None,\n",
       " None,\n",
       " None,\n",
       " None,\n",
       " None,\n",
       " None,\n",
       " None,\n",
       " None,\n",
       " None,\n",
       " None,\n",
       " None,\n",
       " None,\n",
       " None,\n",
       " None,\n",
       " None,\n",
       " None,\n",
       " None,\n",
       " None,\n",
       " None,\n",
       " None,\n",
       " None,\n",
       " None,\n",
       " None,\n",
       " None,\n",
       " None,\n",
       " None,\n",
       " None,\n",
       " None,\n",
       " None]"
      ]
     },
     "execution_count": 3,
     "metadata": {},
     "output_type": "execute_result"
    }
   ],
   "source": [
    "suits = [\"Hearts\", \"Diamonds\", \"Clubs\", \"Spades\"]\n",
    "values = [\"One\", \"Two\", \"Three\", \"Four\", \"Five\", \"Six\", \"Seven\",\"Eight\", \"Nine\", \"Ten\", \"Jack\", \"Queen\", \"King\", \"Ace\"]\n",
    "[print(values[j],\" of \",suits[i]) for i in range(len(suits)) for j in range(len(values))]"
   ]
  },
  {
   "cell_type": "code",
   "execution_count": null,
   "id": "e828a012",
   "metadata": {},
   "outputs": [],
   "source": [
    "4. Write a program that creates the list [1,11,111,1111,...,111...1], where the entries have an ever\n",
    "increasing number of ones, with the last entry having 100 ones."
   ]
  },
  {
   "cell_type": "code",
   "execution_count": 6,
   "id": "307d0c5f",
   "metadata": {},
   "outputs": [
    {
     "name": "stdout",
     "output_type": "stream",
     "text": [
      "['1', '11', '111', '1111', '11111', '111111', '1111111', '11111111', '111111111', '1111111111', '11111111111', '111111111111', '1111111111111', '11111111111111', '111111111111111', '1111111111111111', '11111111111111111', '111111111111111111', '1111111111111111111', '11111111111111111111', '111111111111111111111', '1111111111111111111111', '11111111111111111111111', '111111111111111111111111', '1111111111111111111111111', '11111111111111111111111111', '111111111111111111111111111', '1111111111111111111111111111', '11111111111111111111111111111', '111111111111111111111111111111', '1111111111111111111111111111111', '11111111111111111111111111111111', '111111111111111111111111111111111', '1111111111111111111111111111111111', '11111111111111111111111111111111111', '111111111111111111111111111111111111', '1111111111111111111111111111111111111', '11111111111111111111111111111111111111', '111111111111111111111111111111111111111', '1111111111111111111111111111111111111111', '11111111111111111111111111111111111111111', '111111111111111111111111111111111111111111', '1111111111111111111111111111111111111111111', '11111111111111111111111111111111111111111111', '111111111111111111111111111111111111111111111', '1111111111111111111111111111111111111111111111', '11111111111111111111111111111111111111111111111', '111111111111111111111111111111111111111111111111', '1111111111111111111111111111111111111111111111111', '11111111111111111111111111111111111111111111111111', '111111111111111111111111111111111111111111111111111', '1111111111111111111111111111111111111111111111111111', '11111111111111111111111111111111111111111111111111111', '111111111111111111111111111111111111111111111111111111', '1111111111111111111111111111111111111111111111111111111', '11111111111111111111111111111111111111111111111111111111', '111111111111111111111111111111111111111111111111111111111', '1111111111111111111111111111111111111111111111111111111111', '11111111111111111111111111111111111111111111111111111111111', '111111111111111111111111111111111111111111111111111111111111', '1111111111111111111111111111111111111111111111111111111111111', '11111111111111111111111111111111111111111111111111111111111111', '111111111111111111111111111111111111111111111111111111111111111', '1111111111111111111111111111111111111111111111111111111111111111', '11111111111111111111111111111111111111111111111111111111111111111', '111111111111111111111111111111111111111111111111111111111111111111', '1111111111111111111111111111111111111111111111111111111111111111111', '11111111111111111111111111111111111111111111111111111111111111111111', '111111111111111111111111111111111111111111111111111111111111111111111', '1111111111111111111111111111111111111111111111111111111111111111111111', '11111111111111111111111111111111111111111111111111111111111111111111111', '111111111111111111111111111111111111111111111111111111111111111111111111', '1111111111111111111111111111111111111111111111111111111111111111111111111', '11111111111111111111111111111111111111111111111111111111111111111111111111', '111111111111111111111111111111111111111111111111111111111111111111111111111', '1111111111111111111111111111111111111111111111111111111111111111111111111111', '11111111111111111111111111111111111111111111111111111111111111111111111111111', '111111111111111111111111111111111111111111111111111111111111111111111111111111', '1111111111111111111111111111111111111111111111111111111111111111111111111111111', '11111111111111111111111111111111111111111111111111111111111111111111111111111111', '111111111111111111111111111111111111111111111111111111111111111111111111111111111', '1111111111111111111111111111111111111111111111111111111111111111111111111111111111', '11111111111111111111111111111111111111111111111111111111111111111111111111111111111', '111111111111111111111111111111111111111111111111111111111111111111111111111111111111', '1111111111111111111111111111111111111111111111111111111111111111111111111111111111111', '11111111111111111111111111111111111111111111111111111111111111111111111111111111111111', '111111111111111111111111111111111111111111111111111111111111111111111111111111111111111', '1111111111111111111111111111111111111111111111111111111111111111111111111111111111111111', '11111111111111111111111111111111111111111111111111111111111111111111111111111111111111111', '111111111111111111111111111111111111111111111111111111111111111111111111111111111111111111', '1111111111111111111111111111111111111111111111111111111111111111111111111111111111111111111', '11111111111111111111111111111111111111111111111111111111111111111111111111111111111111111111', '111111111111111111111111111111111111111111111111111111111111111111111111111111111111111111111', '1111111111111111111111111111111111111111111111111111111111111111111111111111111111111111111111', '11111111111111111111111111111111111111111111111111111111111111111111111111111111111111111111111', '111111111111111111111111111111111111111111111111111111111111111111111111111111111111111111111111', '1111111111111111111111111111111111111111111111111111111111111111111111111111111111111111111111111', '11111111111111111111111111111111111111111111111111111111111111111111111111111111111111111111111111', '111111111111111111111111111111111111111111111111111111111111111111111111111111111111111111111111111', '1111111111111111111111111111111111111111111111111111111111111111111111111111111111111111111111111111']\n"
     ]
    }
   ],
   "source": [
    "num=1\n",
    "nl=[]\n",
    "for i in range(1,101):\n",
    "    nl.append(i * \"1\")\n",
    "print(nl)"
   ]
  },
  {
   "cell_type": "code",
   "execution_count": null,
   "id": "4f7e90a7",
   "metadata": {},
   "outputs": [],
   "source": [
    "5. Write a program that  nds all pairs of six-digit palindromic numbers that are less than 20 apart. One such\n",
    "pair is 199991 and 200002"
   ]
  },
  {
   "cell_type": "code",
   "execution_count": 7,
   "id": "8989d2d5",
   "metadata": {},
   "outputs": [
    {
     "name": "stdout",
     "output_type": "stream",
     "text": [
      "[(199991, 200002), (299992, 300003), (399993, 400004), (499994, 500005), (599995, 600006), (699996, 700007), (799997, 800008), (899998, 900009)]\n"
     ]
    }
   ],
   "source": [
    "l1=[]\n",
    "l2=[]\n",
    "for x in range(100000,1000000):\n",
    "    z=len(str(x))//2\n",
    "    flag=0\n",
    "\n",
    "    for y in range(z):\n",
    "        if str(x)[y]!=str(x)[(-1-y)]:\n",
    "            flag=1\n",
    "    if flag==0:\n",
    "        l1.append(x)\n",
    "for y in range(len(l1) - 1):\n",
    "    if abs(l1[y] - l1[y + 1]) < 20:\n",
    "        l2.append((l1[y], l1[y + 1]))\n",
    "print(l2)  "
   ]
  },
  {
   "cell_type": "code",
   "execution_count": null,
   "id": "a84fee95",
   "metadata": {},
   "outputs": [],
   "source": [
    "6. The number 99 has the property that if we multiply its digits together and then add the sum of its digits\n",
    "to that,we get back to 99. That is, (9×9)+(9+9)=99. Write a program to  nd all of the numbers less than\n",
    "10000 with this property. (There are only nine of them.)"
   ]
  },
  {
   "cell_type": "code",
   "execution_count": 8,
   "id": "8f72e075",
   "metadata": {},
   "outputs": [
    {
     "name": "stdout",
     "output_type": "stream",
     "text": [
      "0\n",
      "19\n",
      "29\n",
      "39\n",
      "49\n",
      "59\n",
      "69\n",
      "79\n",
      "89\n",
      "99\n"
     ]
    }
   ],
   "source": [
    "for n in range(10001):\n",
    "    tot=0\n",
    "    prod=0\n",
    "    numlen=len(str(n))\n",
    "    for m in range(numlen):\n",
    "        tot+=int(str(n)[m])\n",
    "        if prod==0:\n",
    "            prod=int(str(n)[m])\n",
    "        else:\n",
    "            prod*=int(str(n)[m])    \n",
    "    if (tot+prod)==n:\n",
    "        print(n)        "
   ]
  },
  {
   "cell_type": "code",
   "execution_count": null,
   "id": "ff72edf8",
   "metadata": {},
   "outputs": [],
   "source": [
    "7. Write a program that  nds all integer solutions to Pell's equation x^2-2y^2=1 ,where x and y are between\n",
    "1 and 100."
   ]
  },
  {
   "cell_type": "code",
   "execution_count": 9,
   "id": "578596ab",
   "metadata": {},
   "outputs": [
    {
     "name": "stdout",
     "output_type": "stream",
     "text": [
      "[(3, 2), (17, 12), (99, 70)]\n"
     ]
    }
   ],
   "source": [
    "ln=[]\n",
    "ln = [(c, d) for c in range(1, 101) for d in range(1, 101) if (c**2)-(2*(d**2))==1]\n",
    "print(ln)"
   ]
  },
  {
   "cell_type": "code",
   "execution_count": null,
   "id": "0f15124b",
   "metadata": {},
   "outputs": [],
   "source": [
    "8. Write a program to determine how many of the numbers between 1 and 10000 contain the digit 3."
   ]
  },
  {
   "cell_type": "code",
   "execution_count": 13,
   "id": "71aabb13",
   "metadata": {},
   "outputs": [
    {
     "name": "stdout",
     "output_type": "stream",
     "text": [
      "3439\n"
     ]
    }
   ],
   "source": [
    "count=0\n",
    "for s in range (1,10001):\n",
    "    if '3' in str(s):\n",
    "        count+=1\n",
    "print(count)"
   ]
  }
 ],
 "metadata": {
  "kernelspec": {
   "display_name": "Python 3 (ipykernel)",
   "language": "python",
   "name": "python3"
  },
  "language_info": {
   "codemirror_mode": {
    "name": "ipython",
    "version": 3
   },
   "file_extension": ".py",
   "mimetype": "text/x-python",
   "name": "python",
   "nbconvert_exporter": "python",
   "pygments_lexer": "ipython3",
   "version": "3.10.9"
  }
 },
 "nbformat": 4,
 "nbformat_minor": 5
}
