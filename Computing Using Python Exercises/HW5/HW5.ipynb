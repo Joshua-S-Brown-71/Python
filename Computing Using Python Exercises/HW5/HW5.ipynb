{
 "cells": [
  {
   "cell_type": "code",
   "execution_count": 1,
   "id": "46071611",
   "metadata": {},
   "outputs": [
    {
     "name": "stdout",
     "output_type": "stream",
     "text": [
      "['a', 'bb', 'ccc', 'dddd', 'eeeee', 'ffffff', 'ggggggg', 'hhhhhhhh', 'iiiiiiiii', 'jjjjjjjjjj', 'kkkkkkkkkkk', 'llllllllllll', 'mmmmmmmmmmmmm', 'nnnnnnnnnnnnnn', 'ooooooooooooooo', 'pppppppppppppppp', 'qqqqqqqqqqqqqqqqq', 'rrrrrrrrrrrrrrrrrr', 'sssssssssssssssssss', 'tttttttttttttttttttt', 'uuuuuuuuuuuuuuuuuuuuu', 'vvvvvvvvvvvvvvvvvvvvvv', 'wwwwwwwwwwwwwwwwwwwwwww', 'xxxxxxxxxxxxxxxxxxxxxxxx', 'yyyyyyyyyyyyyyyyyyyyyyyyy', 'zzzzzzzzzzzzzzzzzzzzzzzzzz']\n"
     ]
    }
   ],
   "source": [
    "num=1\n",
    "alphabet=[]\n",
    "for i in \"abcdefghijklmnopqrstuvwxyz\":\n",
    "    alphabet.append(i * num)\n",
    "    num+=1\n",
    "print(alphabet)"
   ]
  },
  {
   "cell_type": "code",
   "execution_count": 6,
   "id": "801ef0bc",
   "metadata": {},
   "outputs": [
    {
     "name": "stdout",
     "output_type": "stream",
     "text": [
      "Enter an integer: 16\n",
      "[1, 2, 4, 8, 16]\n"
     ]
    }
   ],
   "source": [
    "x=int(input(\"Enter an integer: \"))\n",
    "factors=[1,x]\n",
    "for i in range(2,x):\n",
    "    if x%i==0:\n",
    "        factors.append(i)\n",
    "factors.sort()\n",
    "print (factors)"
   ]
  },
  {
   "cell_type": "code",
   "execution_count": 1,
   "id": "8c0ba88c",
   "metadata": {},
   "outputs": [
    {
     "name": "stdout",
     "output_type": "stream",
     "text": [
      "[1, 1, 0, 1, 0, 0, 1, 0, 0, 0, 1, 0, 0, 0, 0, 1, 0, 0, 0, 0, 0, 1, 0, 0, 0, 0, 0, 0, 1, 0, 0, 0, 0, 0, 0, 0, 1, 0, 0, 0, 0, 0, 0, 0, 0, 1, 0, 0, 0, 0, 0, 0, 0, 0, 0, 1, 0, 0, 0, 0, 0, 0, 0, 0, 0, 0, 1]\n"
     ]
    }
   ],
   "source": [
    "ones=[]\n",
    "for i in range(11):\n",
    "    ones.append(1)\n",
    "    for y in range(i):\n",
    "        ones.append(0)\n",
    "ones.append(1)\n",
    "print(ones)"
   ]
  },
  {
   "cell_type": "code",
   "execution_count": 9,
   "id": "045b3dff",
   "metadata": {},
   "outputs": [
    {
     "name": "stdout",
     "output_type": "stream",
     "text": [
      "[0, 0, 1, 1, 1, 0, 1, 0, 0, 0, 0, 0, 0, 0, 1, 1, 0, 0, 0, 1, 0, 1, 1, 0, 0, 1, 1, 1, 0, 1, 0, 1, 1, 1, 1, 1, 1, 0, 1, 1, 0, 1, 0, 0, 0, 0, 1, 0, 0, 1, 1, 1, 1, 0, 0, 1, 0, 1, 0, 1, 0, 0, 0, 1, 1, 0, 0, 1, 1, 1, 0, 1, 1, 0, 1, 0, 0, 0, 0, 1, 1, 1, 1, 0, 0, 1, 1, 1, 0, 1, 0, 0, 1, 0, 0, 1, 1, 0, 0, 1]\n",
      "\n",
      "The longest run is:  7\n"
     ]
    }
   ],
   "source": [
    "from random import randint\n",
    "large=0\n",
    "count=0\n",
    "rlist=[]\n",
    "for i in range(100):\n",
    "    rlist.append(randint(0,1))\n",
    "for y in range(len(rlist)):\n",
    "    if rlist[y]==0:\n",
    "        count+=1\n",
    "    else:\n",
    "        if count>large:\n",
    "            large=count\n",
    "        count=0\n",
    "print(rlist)\n",
    "print(\"\\nThe longest run is: \",large)\n"
   ]
  },
  {
   "cell_type": "code",
   "execution_count": 10,
   "id": "e225a6f7",
   "metadata": {},
   "outputs": [
    {
     "name": "stdout",
     "output_type": "stream",
     "text": [
      "Original List:  [6, 7, 10, 3, 5, 10, 1, 6, 3, 4, 1, 1, 9, 4, 2, 2, 8, 8, 8, 7]\n",
      "Final List:  [6, 7, 10, 3, 5, 1, 4, 9, 2, 8]\n"
     ]
    }
   ],
   "source": [
    "from random import randint\n",
    "dup=[]\n",
    "size=20\n",
    "high=10\n",
    "low=1\n",
    "\n",
    "for x in range(size):\n",
    "    dup.append(randint(low,high))\n",
    "    \n",
    "print(\"Original List: \",dup)\n",
    "dup.reverse()\n",
    "\n",
    "for m in range(low,(high+1)):\n",
    "    if (dup.count(m))>1: \n",
    "        for c in range(0,(dup.count(m)-1)):\n",
    "            dup.remove(m)\n",
    "\n",
    "dup.reverse()\n",
    "print(\"Final List: \",dup)\n",
    "\n",
    "\n"
   ]
  }
 ],
 "metadata": {
  "kernelspec": {
   "display_name": "Python 3 (ipykernel)",
   "language": "python",
   "name": "python3"
  },
  "language_info": {
   "codemirror_mode": {
    "name": "ipython",
    "version": 3
   },
   "file_extension": ".py",
   "mimetype": "text/x-python",
   "name": "python",
   "nbconvert_exporter": "python",
   "pygments_lexer": "ipython3",
   "version": "3.10.9"
  }
 },
 "nbformat": 4,
 "nbformat_minor": 5
}
