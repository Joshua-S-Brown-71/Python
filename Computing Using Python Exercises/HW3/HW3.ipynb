{
 "cells": [
  {
   "cell_type": "code",
   "execution_count": null,
   "id": "a1dc0db1",
   "metadata": {},
   "outputs": [],
   "source": [
    "flag=0\n",
    "sum=0\n",
    "list=[]\n",
    "for k in range(10):\n",
    "    num = int(input(\"Enter a number: \"))\n",
    "    list.append(num)\n",
    "    if num > 100 or small > 100 or secsmall > 100:\n",
    "        flag=1\n",
    "print(\"Smallest :\",sorted(list)[0])\n",
    "print(\"Second smallest :\",sorted(list)[1])\n",
    "if flag==1:\n",
    "    print(\"Warning, a value over 100 has been entered.\")\n",
    "for j in range(2,10):\n",
    "    print (sorted(list)[j])\n",
    "    sum+=sorted(list)[j]\n",
    "print(\"Average: \",sum/8)\n",
    "\n"
   ]
  },
  {
   "cell_type": "code",
   "execution_count": null,
   "id": "a5fe07b8",
   "metadata": {},
   "outputs": [],
   "source": [
    "from random import randint\n",
    "score=0\n",
    "for g in range(5):\n",
    "    guess = int(input(\"Guess a number between 1-10: \"))\n",
    "    if guess== randint(1,10):\n",
    "        score+=10\n",
    "    else:\n",
    "        score-=1\n",
    "print(\"Final Score: \",score)\n",
    "\n"
   ]
  },
  {
   "cell_type": "code",
   "execution_count": null,
   "id": "eec72fdf",
   "metadata": {},
   "outputs": [],
   "source": [
    "list2=[]\n",
    "for h in range(1,1001):\n",
    "    croot=int(h**(1/3))\n",
    "    if (h==croot*croot*croot):\n",
    "        list2.append(h)\n",
    "for p in range(10):\n",
    "    print(list2[p])\n",
    "    \n",
    "    "
   ]
  },
  {
   "cell_type": "code",
   "execution_count": null,
   "id": "1c0f209c",
   "metadata": {},
   "outputs": [],
   "source": [
    "summ=0\n",
    "numm=1\n",
    "while(numm<2000):\n",
    "    print(numm)\n",
    "    summ+=numm\n",
    "    numm+=2\n",
    "print(\"Sum : \",summ)\n",
    "\n"
   ]
  },
  {
   "cell_type": "code",
   "execution_count": null,
   "id": "d634a4d2",
   "metadata": {},
   "outputs": [],
   "source": [
    "import math\n",
    "innum= int(input(\"Enter a number: \"))\n",
    "insum=0\n",
    "for x in range(1,innum):\n",
    "    insum=(1/x)\n",
    "insum-=math.log(innum)\n",
    "print(\"Sum: \",insum)\n",
    "\n"
   ]
  },
  {
   "cell_type": "code",
   "execution_count": null,
   "id": "5cde3de6",
   "metadata": {},
   "outputs": [],
   "source": [
    "summm=0\n",
    "for l in range(1,2001,2):\n",
    "    summm+=l-(l+1)\n",
    "print(\"Sum: \",summm)\n",
    "\n"
   ]
  }
 ],
 "metadata": {
  "kernelspec": {
   "display_name": "Python 3 (ipykernel)",
   "language": "python",
   "name": "python3"
  },
  "language_info": {
   "codemirror_mode": {
    "name": "ipython",
    "version": 3
   },
   "file_extension": ".py",
   "mimetype": "text/x-python",
   "name": "python",
   "nbconvert_exporter": "python",
   "pygments_lexer": "ipython3",
   "version": "3.10.9"
  }
 },
 "nbformat": 4,
 "nbformat_minor": 5
}
