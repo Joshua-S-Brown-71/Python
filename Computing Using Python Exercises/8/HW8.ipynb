{
 "cells": [
  {
   "cell_type": "markdown",
   "id": "f4b9a629",
   "metadata": {},
   "source": [
    "#### 1. Write a program that asks the user to enter a person’s name and then a list of course numbers that that person has taken. Do this five times. Create a dictionary from this where the keys are the names and the values are the lists of courses that person has taken. Then ask the user for a course name and use the dictionary to print out all the people who took that course."
   ]
  },
  {
   "cell_type": "code",
   "execution_count": 6,
   "id": "42195971",
   "metadata": {},
   "outputs": [
    {
     "name": "stdout",
     "output_type": "stream",
     "text": [
      "\n",
      "Enter name: Bill\n",
      "\n",
      "Enter list of course numbers taken separated by a space: 1234 4321 5678 8765\n",
      "\n",
      "Enter name: Larry\n",
      "\n",
      "Enter list of course numbers taken separated by a space: 9876 6789 5432 2345\n",
      "\n",
      "Enter name: Liz\n",
      "\n",
      "Enter list of course numbers taken separated by a space: 1234 4321 5678 8765\n",
      "\n",
      "Enter name: May\n",
      "\n",
      "Enter list of course numbers taken separated by a space: 9876 6789 5432 2345\n",
      "\n",
      "Enter name: Jenny\n",
      "\n",
      "Enter list of course numbers taken separated by a space: 1234 4321 5678 8765\n",
      "\n",
      "Enter a course number to search for: 6789\n",
      "\n",
      "People who took course  6789 :  ['Larry', 'May']\n"
     ]
    }
   ],
   "source": [
    "cd={}\n",
    "took=[]\n",
    "\n",
    "for i in range(5):\n",
    "    n=input(\"\\nEnter name: \")\n",
    "    cd[n]=input(\"\\nEnter list of course numbers taken separated by a space: \").split()  \n",
    "    \n",
    "sc=input(\"\\nEnter a course number to search for: \")\n",
    "\n",
    "for n,cd[n] in cd.items():\n",
    "    if sc in cd[n]:\n",
    "        took.append(n)\n",
    "\n",
    "if took:\n",
    "    print(\"\\nPeople who took course \",sc,': ',took)\n",
    "else:\n",
    "    print(\"\\nNo one has taken course: \",sc)\n"
   ]
  },
  {
   "cell_type": "markdown",
   "id": "54ac6204",
   "metadata": {},
   "source": [
    "#### 2. Repeatedly ask the user to enter a team name and how many games the team won and how many they lost. Store this information in a dictionary where the keys are the team names and the values are lists of the form [wins, losses].\n",
    "#####     (a) Using the dictionary created above, allow the user to enter a team name and print out the team’s winning percentage.\n",
    "#####     (b) Using the dictionary, create a list whose entries are the number of wins of each team.\n",
    "#####    (c) Using the dictionary, create a list of all those teams that have winning records"
   ]
  },
  {
   "cell_type": "code",
   "execution_count": 2,
   "id": "c0ecc8db",
   "metadata": {},
   "outputs": [
    {
     "name": "stdout",
     "output_type": "stream",
     "text": [
      "Enter a team name or 'quit' to exit: team1\n",
      "Enter the number of games won: 6\n",
      "Enter the number of games lost: 3\n",
      "Enter a team name or 'quit' to exit: team2\n",
      "Enter the number of games won: 4\n",
      "Enter the number of games lost: 9\n",
      "Enter a team name or 'quit' to exit: team3\n",
      "Enter the number of games won: 9\n",
      "Enter the number of games lost: 9\n",
      "Enter a team name or 'quit' to exit: team4\n",
      "Enter the number of games won: 7\n",
      "Enter the number of games lost: 9\n",
      "Enter a team name or 'quit' to exit: team5\n",
      "Enter the number of games won: 2\n",
      "Enter the number of games lost: 1\n",
      "Enter a team name or 'quit' to exit: quit\n",
      "\n",
      "Enter team to check winning percentage: team4\n",
      "Team  team4  has a winning percentage of  43.75\n",
      "\n",
      "List of wins for each team:\n",
      "Team:  team1 , Wins:  6\n",
      "Team:  team2 , Wins:  4\n",
      "Team:  team3 , Wins:  9\n",
      "Team:  team4 , Wins:  7\n",
      "Team:  team5 , Wins:  2\n",
      "\n",
      "Teams with winning records: ['team1', 'team5']\n"
     ]
    }
   ],
   "source": [
    "td={}\n",
    "while True:\n",
    "    name=input(\"Enter a team name or 'quit' to exit: \")\n",
    "    \n",
    "    if name.lower()=='quit':\n",
    "        break\n",
    "\n",
    "    w=int(input(\"Enter the number of games won: \"))\n",
    "    l=int(input(\"Enter the number of games lost: \"))    \n",
    "    td[name] = [w,l]\n",
    "\n",
    "sn = input(\"\\nEnter team to check winning percentage: \")\n",
    "if sn in td:\n",
    "    w,l=td[sn]\n",
    "    wp=round(((w /(w +l))*100),3)\n",
    "    print(\"Team \",sn,\" has a winning percentage of \",wp)\n",
    "else:\n",
    "    print(\"Team was not found in the records.\")\n",
    "\n",
    "nw = {team: rec[0] for team, rec in td.items()}\n",
    "print(\"\\nList of wins for each team:\")\n",
    "for team, w in nw.items():\n",
    "    print(\"Team: \",team,\", Wins: \",w)\n",
    "\n",
    "wr =[team for team,[w,l] in td.items() if w > l]\n",
    "print(\"\\nTeams with winning records:\", wr)\n"
   ]
  },
  {
   "cell_type": "markdown",
   "id": "15662b18",
   "metadata": {},
   "source": [
    "#### 3. Create a 5 × 5 list of numbers. Then write a program that creates a dictionary whose keys are the numbers and whose values are the how many times the number occurs. Then print the three most common numbers."
   ]
  },
  {
   "cell_type": "code",
   "execution_count": 4,
   "id": "11d95c84",
   "metadata": {},
   "outputs": [
    {
     "name": "stdout",
     "output_type": "stream",
     "text": [
      "[[11, 25, 22, 25, 4],\n",
      " [25, 4, 6, 5, 21],\n",
      " [23, 22, 25, 14, 10],\n",
      " [8, 19, 25, 7, 8],\n",
      " [11, 18, 14, 14, 11]]\n",
      "\n",
      "Occurrences of each number:\n",
      "{4: 2,\n",
      " 5: 1,\n",
      " 6: 1,\n",
      " 7: 1,\n",
      " 8: 2,\n",
      " 10: 1,\n",
      " 11: 3,\n",
      " 14: 3,\n",
      " 18: 1,\n",
      " 19: 1,\n",
      " 21: 1,\n",
      " 22: 2,\n",
      " 23: 1,\n",
      " 25: 5}\n",
      "\n",
      "Three most common numbers:\n",
      "25 14 11 "
     ]
    }
   ],
   "source": [
    "from random import randint\n",
    "from pprint import pprint\n",
    "max=25\n",
    "r=5\n",
    "common=3\n",
    "d = {}\n",
    "sl = []\n",
    "\n",
    "L=[[randint(1,max) for i in range(r)] for j in range(5)] \n",
    "pprint(L)\n",
    "L.sort(reverse=True)\n",
    "\n",
    "for x in L:\n",
    "    for y in x:\n",
    "        if y in d:\n",
    "            d[y] += 1\n",
    "        else:\n",
    "            d[y] = 1\n",
    "            \n",
    "for key, val in d.items():\n",
    "    pair = (val, key)\n",
    "    sl.append(pair)\n",
    "    sl.sort(reverse=True)\n",
    "\n",
    "print(\"\\nOccurrences of each number:\")\n",
    "pprint(d)\n",
    "\n",
    "print(\"\\nThree most common numbers:\")\n",
    "for n in range(common):\n",
    "    print(sl[n][1],end=\" \")\n",
    "\n"
   ]
  }
 ],
 "metadata": {
  "kernelspec": {
   "display_name": "Python 3 (ipykernel)",
   "language": "python",
   "name": "python3"
  },
  "language_info": {
   "codemirror_mode": {
    "name": "ipython",
    "version": 3
   },
   "file_extension": ".py",
   "mimetype": "text/x-python",
   "name": "python",
   "nbconvert_exporter": "python",
   "pygments_lexer": "ipython3",
   "version": "3.10.9"
  }
 },
 "nbformat": 4,
 "nbformat_minor": 5
}
