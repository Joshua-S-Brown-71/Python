{
 "cells": [
  {
   "cell_type": "code",
   "execution_count": 1,
   "id": "dab99533",
   "metadata": {},
   "outputs": [
    {
     "name": "stdout",
     "output_type": "stream",
     "text": [
      "What color is the orange\n",
      "orange\n",
      "Correct\n",
      "\n",
      "What color is the sky\n",
      "yellow\n",
      "Incorrect\n",
      "\n",
      "What color is the grass\n",
      "green\n",
      "Correct\n",
      "\n",
      "You got  2 \\ 3 correct\n"
     ]
    }
   ],
   "source": [
    "from random import randint\n",
    "count=0\n",
    "used=[]\n",
    "q=[\"What color is the sky\",\n",
    "   \"What color is the grass\",\n",
    "   \"What color is the sun\",\n",
    "   \"What color is the snow\",\n",
    "   \"What color is the orange\"]\n",
    "a=[\"blue\",\n",
    "   \"green\",\n",
    "   \"yellow\",\n",
    "   \"white\",\n",
    "   \"orange\"]\n",
    "for x in range(3):\n",
    "    rand=randint(0,4)\n",
    "    if rand in used:\n",
    "        while rand in used:\n",
    "            rand=randint(0,4)\n",
    "    print(q[rand])\n",
    "    ans=input()\n",
    "    if ans.lower()==a[rand]:\n",
    "        print(\"Correct\\n\")\n",
    "        count+=1\n",
    "    else:\n",
    "        print(\"Incorrect\\n\")\n",
    "    used.append(rand)\n",
    "print(\"You got \",count,\"\\\\ 3 correct\")\n"
   ]
  },
  {
   "cell_type": "code",
   "execution_count": 2,
   "id": "cd059e27",
   "metadata": {},
   "outputs": [
    {
     "name": "stdout",
     "output_type": "stream",
     "text": [
      "Enter a phone number: 123-456-78a9\n",
      "Invalid\n"
     ]
    }
   ],
   "source": [
    "num=input(\"Enter a phone number: \")\n",
    "num2=num.replace('-',\"\")\n",
    "if num.count('-')==3: \n",
    "    if num2.isdigit() and len(num2)==11:\n",
    "        print(\"Valid\")\n",
    "    else:\n",
    "        print(\"Invalid\")\n",
    "elif num.count('-')==2:\n",
    "    num.replace('-',\"\")\n",
    "    if num2.isdigit() and len(num2)==10:\n",
    "        print(\"Valid\")\n",
    "    else:\n",
    "        print(\"Invalid\")\n",
    "else:\n",
    "    print(\"Invalid\")"
   ]
  },
  {
   "cell_type": "code",
   "execution_count": 3,
   "id": "2e0987ad",
   "metadata": {},
   "outputs": [
    {
     "name": "stdout",
     "output_type": "stream",
     "text": [
      "[(1, []), (1, [0]), (1, [0, 0]), (1, [0, 0, 0]), (1, [0, 0, 0, 0]), (1, [0, 0, 0, 0, 0]), (1, [0, 0, 0, 0, 0, 0]), (1, [0, 0, 0, 0, 0, 0, 0]), (1, [0, 0, 0, 0, 0, 0, 0, 0]), (1, [0, 0, 0, 0, 0, 0, 0, 0, 0]), (1, [0, 0, 0, 0, 0, 0, 0, 0, 0, 0]), 1]\n"
     ]
    }
   ],
   "source": [
    "nl=[(1,[0*j for j in range(i)]) for i in range(11)]\n",
    "nl.append(1)\n",
    "print(nl)"
   ]
  },
  {
   "cell_type": "code",
   "execution_count": null,
   "id": "18644f4b",
   "metadata": {},
   "outputs": [],
   "source": []
  }
 ],
 "metadata": {
  "kernelspec": {
   "display_name": "Python 3 (ipykernel)",
   "language": "python",
   "name": "python3"
  },
  "language_info": {
   "codemirror_mode": {
    "name": "ipython",
    "version": 3
   },
   "file_extension": ".py",
   "mimetype": "text/x-python",
   "name": "python",
   "nbconvert_exporter": "python",
   "pygments_lexer": "ipython3",
   "version": "3.10.9"
  }
 },
 "nbformat": 4,
 "nbformat_minor": 5
}
