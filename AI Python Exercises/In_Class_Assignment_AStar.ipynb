{
 "cells": [
  {
   "cell_type": "code",
   "execution_count": 1,
   "metadata": {
    "id": "cJeI6XaKZM0w"
   },
   "outputs": [],
   "source": [
    "Graph = {\n",
    "    'A' : [('B', 2), ('E', 3)],\n",
    "    'B' : [('C', 1), ('G', 9)],\n",
    "    'C' : None,\n",
    "    'D' : [('G', 1)],\n",
    "    'E' : [('D', 6)]\n",
    "}"
   ]
  },
  {
   "cell_type": "code",
   "execution_count": 2,
   "metadata": {
    "colab": {
     "base_uri": "https://localhost:8080/"
    },
    "id": "YDmEnqheZoTk",
    "outputId": "15955650-6bab-4305-fbef-3b7917f4324e"
   },
   "outputs": [
    {
     "data": {
      "text/plain": [
       "{'A': [('B', 2), ('E', 3)],\n",
       " 'B': [('C', 1), ('G', 9)],\n",
       " 'C': None,\n",
       " 'D': [('G', 1)],\n",
       " 'E': [('D', 6)]}"
      ]
     },
     "execution_count": 2,
     "metadata": {},
     "output_type": "execute_result"
    }
   ],
   "source": [
    "Graph"
   ]
  },
  {
   "cell_type": "code",
   "execution_count": 3,
   "metadata": {
    "id": "JXnm58JeZqCT"
   },
   "outputs": [],
   "source": [
    "def heuristic(node):\n",
    "  H_dist = {\n",
    "      'A' : 11,\n",
    "      'B' : 6,\n",
    "      'C' : 99,\n",
    "      'D' : 1,\n",
    "      'E' : 7,\n",
    "      'G' : 0\n",
    "  }\n",
    "\n",
    "  return H_dist[node]"
   ]
  },
  {
   "cell_type": "code",
   "execution_count": 4,
   "metadata": {
    "id": "Enkpgudxa8gB"
   },
   "outputs": [],
   "source": [
    "def getNeighbors(vertex):\n",
    "  if vertex in Graph:\n",
    "      return Graph[vertex]\n",
    "  else:\n",
    "      return None"
   ]
  },
  {
   "cell_type": "code",
   "execution_count": 5,
   "metadata": {
    "colab": {
     "base_uri": "https://localhost:8080/"
    },
    "id": "r8Mg0dGsbXcL",
    "outputId": "c4d9d5f9-6a25-4de4-ff03-26bcbd36084c"
   },
   "outputs": [
    {
     "data": {
      "text/plain": [
       "[('B', 2), ('E', 3)]"
      ]
     },
     "execution_count": 5,
     "metadata": {},
     "output_type": "execute_result"
    }
   ],
   "source": [
    "Graph['A']"
   ]
  },
  {
   "cell_type": "code",
   "execution_count": 6,
   "metadata": {
    "id": "NxG2FI_IbacU"
   },
   "outputs": [],
   "source": [
    "def A_StarAlgorithm(sourceNode, goalNode):\n",
    "    open_set = set(sourceNode)\n",
    "    closed_set = set()\n",
    "    distance = {}\n",
    "    parents = {}\n",
    "\n",
    "    distance[sourceNode] = 0\n",
    "    parents[sourceNode] = sourceNode\n",
    "\n",
    "    while (len(open_set)) > 0:\n",
    "      newNode = None\n",
    "\n",
    "      for vertex in open_set:\n",
    "        if newNode == None or distance[vertex] + heuristic(vertex) < distance[newNode] + heuristic(newNode):\n",
    "          newNode = vertex\n",
    "\n",
    "      if newNode == goalNode or Graph[newNode] == None:\n",
    "        pass\n",
    "      else:\n",
    "          for (m, weight) in getNeighbors(newNode):\n",
    "            if m not in open_set and m not in closed_set:\n",
    "              open_set.add(m)\n",
    "              parents[m] = newNode\n",
    "              distance[m] = distance[newNode] + weight\n",
    "\n",
    "            else:\n",
    "                if distance[m] > distance[newNode] + weight:\n",
    "                    distance[m] = distance[newNode] + weight\n",
    "                    parents[m] = newNode\n",
    "\n",
    "      if newNode == None:\n",
    "          print('Path does not exist!')\n",
    "          return None\n",
    "\n",
    "      if newNode == goalNode:\n",
    "        path = []\n",
    "        while parents[newNode] != newNode:\n",
    "          path.append(newNode)\n",
    "          newNode = parents[newNode]\n",
    "\n",
    "        path.append(sourceNode)\n",
    "        path.reverse()\n",
    "        print(f'Path found: {path}')\n",
    "        return path\n",
    "\n",
    "      open_set.remove(newNode)\n",
    "      closed_set.add(newNode)\n",
    "\n",
    "    print('Path does not exist!')\n",
    "    return None"
   ]
  },
  {
   "cell_type": "code",
   "execution_count": 7,
   "metadata": {
    "colab": {
     "base_uri": "https://localhost:8080/"
    },
    "id": "ChSKei_0jncY",
    "outputId": "f473c494-607e-4ee2-827f-179b097c99ab"
   },
   "outputs": [
    {
     "name": "stdout",
     "output_type": "stream",
     "text": [
      "Path found: ['A', 'E', 'D', 'G']\n"
     ]
    },
    {
     "data": {
      "text/plain": [
       "['A', 'E', 'D', 'G']"
      ]
     },
     "execution_count": 7,
     "metadata": {},
     "output_type": "execute_result"
    }
   ],
   "source": [
    "A_StarAlgorithm('A', 'G')"
   ]
  },
  {
   "cell_type": "code",
   "execution_count": null,
   "metadata": {
    "id": "5WmT2LlTk5nT"
   },
   "outputs": [],
   "source": []
  },
  {
   "cell_type": "code",
   "execution_count": null,
   "metadata": {},
   "outputs": [],
   "source": []
  },
  {
   "cell_type": "code",
   "execution_count": null,
   "metadata": {},
   "outputs": [],
   "source": []
  },
  {
   "cell_type": "code",
   "execution_count": null,
   "metadata": {},
   "outputs": [],
   "source": []
  },
  {
   "cell_type": "code",
   "execution_count": null,
   "metadata": {},
   "outputs": [],
   "source": []
  },
  {
   "cell_type": "code",
   "execution_count": null,
   "metadata": {},
   "outputs": [],
   "source": []
  }
 ],
 "metadata": {
  "colab": {
   "provenance": []
  },
  "kernelspec": {
   "display_name": "Python 3 (ipykernel)",
   "language": "python",
   "name": "python3"
  },
  "language_info": {
   "codemirror_mode": {
    "name": "ipython",
    "version": 3
   },
   "file_extension": ".py",
   "mimetype": "text/x-python",
   "name": "python",
   "nbconvert_exporter": "python",
   "pygments_lexer": "ipython3",
   "version": "3.10.9"
  }
 },
 "nbformat": 4,
 "nbformat_minor": 1
}
