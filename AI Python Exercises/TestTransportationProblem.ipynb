{
 "cells": [
  {
   "cell_type": "code",
   "execution_count": 1,
   "id": "4486b147",
   "metadata": {},
   "outputs": [],
   "source": [
    "import sys\n",
    "sys.setrecursionlimit(10000)\n",
    "\n",
    "# from file.py import class or function\n",
    "from TransportationProblem import Transportation\n",
    "from TransportationProblem import backTrackingSearch\n",
    "from TransportationProblem import printSolution\n",
    "from TransportationProblem import dynamicProgramming"
   ]
  },
  {
   "cell_type": "code",
   "execution_count": 2,
   "id": "b7068772",
   "metadata": {},
   "outputs": [],
   "source": [
    "trueWeights = {'walk': 1, 'bus': 2}"
   ]
  },
  {
   "cell_type": "code",
   "execution_count": 3,
   "id": "e1c206f6",
   "metadata": {},
   "outputs": [],
   "source": [
    "problem = Transportation(N=10, weights = trueWeights)"
   ]
  },
  {
   "cell_type": "code",
   "execution_count": 4,
   "id": "48bc5078",
   "metadata": {},
   "outputs": [
    {
     "data": {
      "text/plain": [
       "[('walk', 10, 1)]"
      ]
     },
     "execution_count": 4,
     "metadata": {},
     "output_type": "execute_result"
    }
   ],
   "source": [
    "problem.succAndCost(9)"
   ]
  },
  {
   "cell_type": "code",
   "execution_count": 5,
   "id": "a982316d",
   "metadata": {},
   "outputs": [
    {
     "name": "stdout",
     "output_type": "stream",
     "text": [
      "totalCost: 6\n",
      "('walk', 2, 1)\n",
      "('walk', 3, 1)\n",
      "('walk', 4, 1)\n",
      "('walk', 5, 1)\n",
      "('bus', 10, 2)\n"
     ]
    }
   ],
   "source": [
    "printSolution(backTrackingSearch(problem))"
   ]
  },
  {
   "cell_type": "code",
   "execution_count": 6,
   "id": "94ef10ba",
   "metadata": {},
   "outputs": [
    {
     "name": "stdout",
     "output_type": "stream",
     "text": [
      "totalCost: 6\n",
      "('walk', 2, 1)\n",
      "('bus', 4, 2)\n",
      "('walk', 5, 1)\n",
      "('bus', 10, 2)\n"
     ]
    }
   ],
   "source": [
    "printSolution(dynamicProgramming(problem))"
   ]
  },
  {
   "cell_type": "code",
   "execution_count": null,
   "id": "f7740d44",
   "metadata": {},
   "outputs": [],
   "source": []
  },
  {
   "cell_type": "code",
   "execution_count": null,
   "id": "ce2a0b35",
   "metadata": {},
   "outputs": [],
   "source": []
  },
  {
   "cell_type": "code",
   "execution_count": null,
   "id": "bf1aa804",
   "metadata": {},
   "outputs": [],
   "source": []
  }
 ],
 "metadata": {
  "kernelspec": {
   "display_name": "Python 3 (ipykernel)",
   "language": "python",
   "name": "python3"
  },
  "language_info": {
   "codemirror_mode": {
    "name": "ipython",
    "version": 3
   },
   "file_extension": ".py",
   "mimetype": "text/x-python",
   "name": "python",
   "nbconvert_exporter": "python",
   "pygments_lexer": "ipython3",
   "version": "3.10.9"
  }
 },
 "nbformat": 4,
 "nbformat_minor": 5
}
