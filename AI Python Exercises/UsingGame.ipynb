{
 "cells": [
  {
   "cell_type": "code",
   "execution_count": 1,
   "id": "93a7672d",
   "metadata": {},
   "outputs": [],
   "source": [
    "from Game import HalfingGame\n",
    "from Game import humanPolicy"
   ]
  },
  {
   "cell_type": "code",
   "execution_count": 2,
   "id": "e5953b7c",
   "metadata": {},
   "outputs": [],
   "source": [
    "policies = {+1: humanPolicy, -1: humanPolicy}"
   ]
  },
  {
   "cell_type": "code",
   "execution_count": 3,
   "id": "02ed8377",
   "metadata": {},
   "outputs": [],
   "source": [
    "def playGame(policy):\n",
    "    Game=HalfingGame(N=15)\n",
    "    state=Game.startState()\n",
    "    while not Game.isEnd(state):\n",
    "        print('='*10,state)\n",
    "        player=Game.player(state)\n",
    "        oplicy=policies[player]\n",
    "        action=policy(game,state)\n",
    "        state=Game.succ(state,action)\n",
    "    print(f'utility={Game.utility(state)}')"
   ]
  },
  {
   "cell_type": "code",
   "execution_count": 4,
   "id": "32afc175",
   "metadata": {},
   "outputs": [
    {
     "name": "stdout",
     "output_type": "stream",
     "text": [
      "========== (1, 15)\n"
     ]
    },
    {
     "ename": "AttributeError",
     "evalue": "'HalfingGame' object has no attribute 'player'",
     "output_type": "error",
     "traceback": [
      "\u001b[0;31m---------------------------------------------------------------------------\u001b[0m",
      "\u001b[0;31mAttributeError\u001b[0m                            Traceback (most recent call last)",
      "Cell \u001b[0;32mIn[4], line 1\u001b[0m\n\u001b[0;32m----> 1\u001b[0m \u001b[43mplayGame\u001b[49m\u001b[43m(\u001b[49m\u001b[43mpolicies\u001b[49m\u001b[43m)\u001b[49m\n",
      "Cell \u001b[0;32mIn[3], line 6\u001b[0m, in \u001b[0;36mplayGame\u001b[0;34m(policy)\u001b[0m\n\u001b[1;32m      4\u001b[0m \u001b[38;5;28;01mwhile\u001b[39;00m \u001b[38;5;129;01mnot\u001b[39;00m Game\u001b[38;5;241m.\u001b[39misEnd(state):\n\u001b[1;32m      5\u001b[0m     \u001b[38;5;28mprint\u001b[39m(\u001b[38;5;124m'\u001b[39m\u001b[38;5;124m=\u001b[39m\u001b[38;5;124m'\u001b[39m\u001b[38;5;241m*\u001b[39m\u001b[38;5;241m10\u001b[39m,state)\n\u001b[0;32m----> 6\u001b[0m     player\u001b[38;5;241m=\u001b[39m\u001b[43mGame\u001b[49m\u001b[38;5;241;43m.\u001b[39;49m\u001b[43mplayer\u001b[49m(state)\n\u001b[1;32m      7\u001b[0m     oplicy\u001b[38;5;241m=\u001b[39mpolicies[player]\n\u001b[1;32m      8\u001b[0m     action\u001b[38;5;241m=\u001b[39mpolicy(game,state)\n",
      "\u001b[0;31mAttributeError\u001b[0m: 'HalfingGame' object has no attribute 'player'"
     ]
    }
   ],
   "source": [
    "playGame(policies)"
   ]
  },
  {
   "cell_type": "code",
   "execution_count": null,
   "id": "291590ca",
   "metadata": {},
   "outputs": [],
   "source": []
  },
  {
   "cell_type": "code",
   "execution_count": null,
   "id": "aa8b4f06",
   "metadata": {},
   "outputs": [],
   "source": []
  }
 ],
 "metadata": {
  "kernelspec": {
   "display_name": "Python 3 (ipykernel)",
   "language": "python",
   "name": "python3"
  },
  "language_info": {
   "codemirror_mode": {
    "name": "ipython",
    "version": 3
   },
   "file_extension": ".py",
   "mimetype": "text/x-python",
   "name": "python",
   "nbconvert_exporter": "python",
   "pygments_lexer": "ipython3",
   "version": "3.10.9"
  }
 },
 "nbformat": 4,
 "nbformat_minor": 5
}
