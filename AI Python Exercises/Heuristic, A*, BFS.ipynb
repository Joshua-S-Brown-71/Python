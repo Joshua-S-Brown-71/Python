{
 "cells": [
  {
   "cell_type": "code",
   "execution_count": 65,
   "id": "161ed704",
   "metadata": {},
   "outputs": [],
   "source": [
    "Graph={\n",
    "    \"A\":[(\"B\",2),(\"E\",3)],\n",
    "    \"B\":[(\"C\",1),(\"G\",9)],\n",
    "    \"C\":None,\n",
    "    \"D\":[(\"G\",1)],\n",
    "    \"E\":[(\"D\",6)],\n",
    "\n",
    "}"
   ]
  },
  {
   "cell_type": "code",
   "execution_count": 66,
   "id": "b74e8d91",
   "metadata": {},
   "outputs": [
    {
     "data": {
      "text/plain": [
       "{'A': [('B', 2), ('E', 3)],\n",
       " 'B': [('C', 1), ('G', 9)],\n",
       " 'C': None,\n",
       " 'D': [('G', 1)],\n",
       " 'E': [('D', 6)]}"
      ]
     },
     "execution_count": 66,
     "metadata": {},
     "output_type": "execute_result"
    }
   ],
   "source": [
    "Graph"
   ]
  },
  {
   "cell_type": "code",
   "execution_count": 67,
   "id": "2e78d4ce",
   "metadata": {},
   "outputs": [],
   "source": [
    "def heuristsic(node):\n",
    "    H_dist = {\n",
    "        \"A\":11,\n",
    "        \"B\":6,\n",
    "        \"C\":99,\n",
    "        \"D\":1,\n",
    "        \"E\":7,\n",
    "        \"G\":0\n",
    "    }\n",
    "    \n",
    "    return H_dist[node]"
   ]
  },
  {
   "cell_type": "code",
   "execution_count": 68,
   "id": "c1e76ab4",
   "metadata": {},
   "outputs": [],
   "source": [
    "def getNeighbors(vertex):  \n",
    "    if vertex in Graph:\n",
    "        return Graph[vertex]\n",
    "    else:\n",
    "        return None"
   ]
  },
  {
   "cell_type": "code",
   "execution_count": 69,
   "id": "064992b3",
   "metadata": {},
   "outputs": [],
   "source": [
    "def A_star(source, goal):\n",
    "    open_set=set(source)\n",
    "    closed_set=set()\n",
    "    dist={}\n",
    "    parents={}\n",
    "    \n",
    "    dist[source]=0\n",
    "    parents[source]=source\n",
    "    \n",
    "    while(len(open_set))>0:\n",
    "        newNode=None\n",
    "        \n",
    "        for vertex in open_set:\n",
    "            if newNode == None or dist[vertex]+heuristsic(vertex)<dist[newNode]+heuristsic(newNode):\n",
    "                newNode=vertex\n",
    "        if newNode == goal or Graph[newNode]==None:\n",
    "            pass\n",
    "        else:\n",
    "                for(m,weight) in getNeighbors(newNode):\n",
    "                    if m not in open_set and m not in closed_set:\n",
    "                        open_set.add(m)\n",
    "                        parents[m]= newNode\n",
    "                        dist[m]=dist[newNode]+weight\n",
    "                    else:\n",
    "                        if dist[m]>dist[newNode]+weight:\n",
    "                            dist[m]=dist[newNode]+weight\n",
    "                            parents[m]=newNode\n",
    "        if newNode == None:\n",
    "            print(\"Path doesnt exist\")\n",
    "            return None\n",
    "        if newNode == goal:\n",
    "            path=[]\n",
    "            while parents[newNode]!= newNode:\n",
    "                path.append(newNode)\n",
    "                newNode=parents[newNode]\n",
    "            path.append(source)\n",
    "            path.reverse()\n",
    "            print(f'Path found: {path}')\n",
    "            return path\n",
    "        open_set.remove(newNode)\n",
    "        closed_set.add(newNode)\n",
    "    print(\"Path doesnt exist\")\n",
    "    return None"
   ]
  },
  {
   "cell_type": "code",
   "execution_count": 70,
   "id": "8f6ecdc6",
   "metadata": {},
   "outputs": [
    {
     "name": "stdout",
     "output_type": "stream",
     "text": [
      "Path found: ['A', 'E', 'D', 'G']\n"
     ]
    },
    {
     "data": {
      "text/plain": [
       "['A', 'E', 'D', 'G']"
      ]
     },
     "execution_count": 70,
     "metadata": {},
     "output_type": "execute_result"
    }
   ],
   "source": [
    "A_star('A','G')"
   ]
  },
  {
   "cell_type": "code",
   "execution_count": null,
   "id": "cd7b98b0",
   "metadata": {},
   "outputs": [],
   "source": []
  },
  {
   "cell_type": "code",
   "execution_count": null,
   "id": "5d0ab41d",
   "metadata": {},
   "outputs": [],
   "source": []
  },
  {
   "cell_type": "code",
   "execution_count": null,
   "id": "fb800014",
   "metadata": {},
   "outputs": [],
   "source": []
  },
  {
   "cell_type": "code",
   "execution_count": null,
   "id": "9143aa97",
   "metadata": {},
   "outputs": [],
   "source": []
  },
  {
   "cell_type": "code",
   "execution_count": null,
   "id": "4a924c97",
   "metadata": {},
   "outputs": [],
   "source": []
  },
  {
   "cell_type": "code",
   "execution_count": null,
   "id": "741399d1",
   "metadata": {},
   "outputs": [],
   "source": []
  },
  {
   "cell_type": "code",
   "execution_count": null,
   "id": "022d0dcd",
   "metadata": {},
   "outputs": [],
   "source": []
  },
  {
   "cell_type": "code",
   "execution_count": null,
   "id": "c1094184",
   "metadata": {},
   "outputs": [],
   "source": []
  }
 ],
 "metadata": {
  "kernelspec": {
   "display_name": "Python 3 (ipykernel)",
   "language": "python",
   "name": "python3"
  },
  "language_info": {
   "codemirror_mode": {
    "name": "ipython",
    "version": 3
   },
   "file_extension": ".py",
   "mimetype": "text/x-python",
   "name": "python",
   "nbconvert_exporter": "python",
   "pygments_lexer": "ipython3",
   "version": "3.10.9"
  }
 },
 "nbformat": 4,
 "nbformat_minor": 5
}
