{
 "cells": [
  {
   "cell_type": "code",
   "execution_count": null,
   "id": "4d55996b",
   "metadata": {},
   "outputs": [],
   "source": [
    "from logic import *\n",
    "\n",
    "colors = ['red', 'blue', 'green', 'yellow']\n",
    "symbols = []\n",
    "for i in range(4):\n",
    "    for color in colors:\n",
    "        symbols.append(Symbol(f\"{color}{i}\"))\n",
    "\n",
    "knowledge = And()\n",
    "\n",
    "for color in colors:\n",
    "    knowledge.add(Or(\n",
    "        Symbol(f\"{color}0\"),\n",
    "        Symbol(f\"{color}1\"),\n",
    "        Symbol(f\"{color}2\"),\n",
    "        Symbol(f\"{color}3\")\n",
    "    ))\n",
    "print(knowledge)\n",
    "\n",
    "for color in colors:\n",
    "    for i in range(4):\n",
    "        for j in range(4):\n",
    "            if i != j:\n",
    "                knowledge.add(Implication(\n",
    "                    Symbol(f\"{color}{i}\"),\n",
    "                    Not(Symbol(f\"{color}{j}\"))\n",
    "                ))\n",
    "\n",
    "for i in range(4):\n",
    "    for c1 in colors:\n",
    "        for c2 in colors:\n",
    "            if c1 != c2:\n",
    "                knowledge.add(Implication(\n",
    "                    Symbol(f\"{c1}{i}\"),\n",
    "                    Not(Symbol(f\"{c2}{i}\"))\n",
    "                ))\n",
    "\n",
    "knowledge.add(Or(\n",
    "    And(Symbol(\"red0\"), Symbol(\"blue1\"), Not(Symbol(\"green2\")), Symbol(\"yellow3\")),\n",
    "    And(Symbol(\"red0\"), Symbol(\"green2\"), Not(Symbol(\"blue1\")), Symbol(\"yellow3\")),\n",
    "    And(Symbol(\"red0\"), Symbol(\"yellow3\"), Not(Symbol(\"blue1\")), Symbol(\"green2\")),\n",
    "    And(Symbol(\"blue1\"), Symbol(\"green2\"), Not(Symbol(\"red0\")), Symbol(\"yellow3\")),\n",
    "    And(Symbol(\"blue1\"), Symbol(\"yellow3\"), Not(Symbol(\"red0\")), Symbol(\"green2\")),\n",
    "    And(Symbol(\"green2\"), Symbol(\"yellow3\"), Not(Symbol(\"red0\")), Symbol(\"blue1\"))\n",
    "))\n",
    "\n",
    "print(knowledge)\n",
    "\n",
    "knowledge.add(And(\n",
    "    Not(Symbol(\"blue0\")),\n",
    "    Not(Symbol(\"red1\")),\n",
    "    Not(Symbol(\"green2\")),\n",
    "    Not(Symbol(\"yellow3\")),\n",
    "))\n",
    "\n",
    "\n",
    "for symbol in symbols:\n",
    "    if model_check(knowledge, symbol):\n",
    "        print(symbol)\n"
   ]
  },
  {
   "cell_type": "code",
   "execution_count": null,
   "id": "26092002",
   "metadata": {},
   "outputs": [],
   "source": []
  },
  {
   "cell_type": "code",
   "execution_count": null,
   "id": "8654b904",
   "metadata": {},
   "outputs": [],
   "source": []
  }
 ],
 "metadata": {
  "kernelspec": {
   "display_name": "Python 3 (ipykernel)",
   "language": "python",
   "name": "python3"
  },
  "language_info": {
   "codemirror_mode": {
    "name": "ipython",
    "version": 3
   },
   "file_extension": ".py",
   "mimetype": "text/x-python",
   "name": "python",
   "nbconvert_exporter": "python",
   "pygments_lexer": "ipython3",
   "version": "3.10.9"
  }
 },
 "nbformat": 4,
 "nbformat_minor": 5
}
