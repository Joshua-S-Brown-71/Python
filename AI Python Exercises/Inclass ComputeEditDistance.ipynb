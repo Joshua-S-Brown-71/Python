{
 "cells": [
  {
   "cell_type": "code",
   "execution_count": 14,
   "id": "d463b364",
   "metadata": {},
   "outputs": [],
   "source": [
    "def computeEditDistance(str1,str2):\n",
    "    def recursive(m,n,str):\n",
    "        print(f\"{str}: {str1[:m]}  {str2[:n]}\")\n",
    "        if m==0:                                #base case empty string str1\n",
    "            result=n\n",
    "        elif n==0:                             #base case empty string str2\n",
    "            result=m\n",
    "        elif str1[m-1] == str2[n-1]:            #last letter matches\n",
    "            reult=recursive(m-1,n-1,\"match\")\n",
    "        else:\n",
    "            subcost=1+recursive(m-1,n-1,\"substitute\")\n",
    "            delcost=1+recursive(m-1,n,\"delete\")\n",
    "            inscost=1+recursive(m,n-1,\"insert\")\n",
    "            result= min(subcost,delcost,inscost)\n",
    "        return result\n",
    "    return recursive(len(str1),len(str2),\"computeEditDistance\")"
   ]
  },
  {
   "cell_type": "code",
   "execution_count": 15,
   "id": "4881b31a",
   "metadata": {},
   "outputs": [
    {
     "name": "stdout",
     "output_type": "stream",
     "text": [
      "computeEditDistance: a cat!  the cats!\n",
      "match: a cat  the cats\n",
      "substitute: a ca  the cat\n",
      "substitute: a c  the ca\n",
      "substitute: a   the c\n",
      "substitute: a  the \n",
      "substitute:   the\n",
      "delete:   the \n",
      "insert: a  the\n",
      "substitute:   th\n",
      "delete:   the\n",
      "insert: a  th\n",
      "substitute:   t\n",
      "delete:   th\n",
      "insert: a  t\n",
      "substitute:   \n",
      "delete:   t\n",
      "insert: a  \n",
      "delete: a  the c\n",
      "substitute:   the \n",
      "delete:   the c\n",
      "insert: a  the \n",
      "substitute:   the\n",
      "delete:   the \n",
      "insert: a  the\n",
      "substitute:   th\n",
      "delete:   the\n",
      "insert: a  th\n",
      "substitute:   t\n",
      "delete:   th\n",
      "insert: a  t\n",
      "substitute:   \n",
      "delete:   t\n",
      "insert: a  \n",
      "insert: a   the \n",
      "match: a  the\n",
      "substitute:   th\n",
      "delete:   the\n",
      "insert: a  th\n",
      "substitute:   t\n",
      "delete:   th\n",
      "insert: a  t\n",
      "substitute:   \n",
      "delete:   t\n",
      "insert: a  \n"
     ]
    },
    {
     "ename": "UnboundLocalError",
     "evalue": "local variable 'result' referenced before assignment",
     "output_type": "error",
     "traceback": [
      "\u001b[0;31m---------------------------------------------------------------------------\u001b[0m",
      "\u001b[0;31mUnboundLocalError\u001b[0m                         Traceback (most recent call last)",
      "Cell \u001b[0;32mIn[15], line 1\u001b[0m\n\u001b[0;32m----> 1\u001b[0m \u001b[38;5;28mprint\u001b[39m(\u001b[43mcomputeEditDistance\u001b[49m\u001b[43m(\u001b[49m\u001b[38;5;124;43m\"\u001b[39;49m\u001b[38;5;124;43ma cat!\u001b[39;49m\u001b[38;5;124;43m\"\u001b[39;49m\u001b[43m,\u001b[49m\u001b[38;5;124;43m\"\u001b[39;49m\u001b[38;5;124;43mthe cats!\u001b[39;49m\u001b[38;5;124;43m\"\u001b[39;49m\u001b[43m)\u001b[49m)\n",
      "Cell \u001b[0;32mIn[14], line 16\u001b[0m, in \u001b[0;36mcomputeEditDistance\u001b[0;34m(str1, str2)\u001b[0m\n\u001b[1;32m     14\u001b[0m         result\u001b[38;5;241m=\u001b[39m \u001b[38;5;28mmin\u001b[39m(subcost,delcost,inscost)\n\u001b[1;32m     15\u001b[0m     \u001b[38;5;28;01mreturn\u001b[39;00m result\n\u001b[0;32m---> 16\u001b[0m \u001b[38;5;28;01mreturn\u001b[39;00m \u001b[43mrecursive\u001b[49m\u001b[43m(\u001b[49m\u001b[38;5;28;43mlen\u001b[39;49m\u001b[43m(\u001b[49m\u001b[43mstr1\u001b[49m\u001b[43m)\u001b[49m\u001b[43m,\u001b[49m\u001b[38;5;28;43mlen\u001b[39;49m\u001b[43m(\u001b[49m\u001b[43mstr2\u001b[49m\u001b[43m)\u001b[49m\u001b[43m,\u001b[49m\u001b[38;5;124;43m\"\u001b[39;49m\u001b[38;5;124;43mcomputeEditDistance\u001b[39;49m\u001b[38;5;124;43m\"\u001b[39;49m\u001b[43m)\u001b[49m\n",
      "Cell \u001b[0;32mIn[14], line 9\u001b[0m, in \u001b[0;36mcomputeEditDistance.<locals>.recursive\u001b[0;34m(m, n, str)\u001b[0m\n\u001b[1;32m      7\u001b[0m     result\u001b[38;5;241m=\u001b[39mm\n\u001b[1;32m      8\u001b[0m \u001b[38;5;28;01melif\u001b[39;00m str1[m\u001b[38;5;241m-\u001b[39m\u001b[38;5;241m1\u001b[39m] \u001b[38;5;241m==\u001b[39m str2[n\u001b[38;5;241m-\u001b[39m\u001b[38;5;241m1\u001b[39m]:            \u001b[38;5;66;03m#last letter matches\u001b[39;00m\n\u001b[0;32m----> 9\u001b[0m     reult\u001b[38;5;241m=\u001b[39m\u001b[43mrecursive\u001b[49m\u001b[43m(\u001b[49m\u001b[43mm\u001b[49m\u001b[38;5;241;43m-\u001b[39;49m\u001b[38;5;241;43m1\u001b[39;49m\u001b[43m,\u001b[49m\u001b[43mn\u001b[49m\u001b[38;5;241;43m-\u001b[39;49m\u001b[38;5;241;43m1\u001b[39;49m\u001b[43m,\u001b[49m\u001b[38;5;124;43m\"\u001b[39;49m\u001b[38;5;124;43mmatch\u001b[39;49m\u001b[38;5;124;43m\"\u001b[39;49m\u001b[43m)\u001b[49m\n\u001b[1;32m     10\u001b[0m \u001b[38;5;28;01melse\u001b[39;00m:\n\u001b[1;32m     11\u001b[0m     subcost\u001b[38;5;241m=\u001b[39m\u001b[38;5;241m1\u001b[39m\u001b[38;5;241m+\u001b[39mrecursive(m\u001b[38;5;241m-\u001b[39m\u001b[38;5;241m1\u001b[39m,n\u001b[38;5;241m-\u001b[39m\u001b[38;5;241m1\u001b[39m,\u001b[38;5;124m\"\u001b[39m\u001b[38;5;124msubstitute\u001b[39m\u001b[38;5;124m\"\u001b[39m)\n",
      "Cell \u001b[0;32mIn[14], line 11\u001b[0m, in \u001b[0;36mcomputeEditDistance.<locals>.recursive\u001b[0;34m(m, n, str)\u001b[0m\n\u001b[1;32m      9\u001b[0m     reult\u001b[38;5;241m=\u001b[39mrecursive(m\u001b[38;5;241m-\u001b[39m\u001b[38;5;241m1\u001b[39m,n\u001b[38;5;241m-\u001b[39m\u001b[38;5;241m1\u001b[39m,\u001b[38;5;124m\"\u001b[39m\u001b[38;5;124mmatch\u001b[39m\u001b[38;5;124m\"\u001b[39m)\n\u001b[1;32m     10\u001b[0m \u001b[38;5;28;01melse\u001b[39;00m:\n\u001b[0;32m---> 11\u001b[0m     subcost\u001b[38;5;241m=\u001b[39m\u001b[38;5;241m1\u001b[39m\u001b[38;5;241m+\u001b[39m\u001b[43mrecursive\u001b[49m\u001b[43m(\u001b[49m\u001b[43mm\u001b[49m\u001b[38;5;241;43m-\u001b[39;49m\u001b[38;5;241;43m1\u001b[39;49m\u001b[43m,\u001b[49m\u001b[43mn\u001b[49m\u001b[38;5;241;43m-\u001b[39;49m\u001b[38;5;241;43m1\u001b[39;49m\u001b[43m,\u001b[49m\u001b[38;5;124;43m\"\u001b[39;49m\u001b[38;5;124;43msubstitute\u001b[39;49m\u001b[38;5;124;43m\"\u001b[39;49m\u001b[43m)\u001b[49m\n\u001b[1;32m     12\u001b[0m     delcost\u001b[38;5;241m=\u001b[39m\u001b[38;5;241m1\u001b[39m\u001b[38;5;241m+\u001b[39mrecursive(m\u001b[38;5;241m-\u001b[39m\u001b[38;5;241m1\u001b[39m,n,\u001b[38;5;124m\"\u001b[39m\u001b[38;5;124mdelete\u001b[39m\u001b[38;5;124m\"\u001b[39m)\n\u001b[1;32m     13\u001b[0m     inscost\u001b[38;5;241m=\u001b[39m\u001b[38;5;241m1\u001b[39m\u001b[38;5;241m+\u001b[39mrecursive(m,n\u001b[38;5;241m-\u001b[39m\u001b[38;5;241m1\u001b[39m,\u001b[38;5;124m\"\u001b[39m\u001b[38;5;124minsert\u001b[39m\u001b[38;5;124m\"\u001b[39m)\n",
      "Cell \u001b[0;32mIn[14], line 11\u001b[0m, in \u001b[0;36mcomputeEditDistance.<locals>.recursive\u001b[0;34m(m, n, str)\u001b[0m\n\u001b[1;32m      9\u001b[0m     reult\u001b[38;5;241m=\u001b[39mrecursive(m\u001b[38;5;241m-\u001b[39m\u001b[38;5;241m1\u001b[39m,n\u001b[38;5;241m-\u001b[39m\u001b[38;5;241m1\u001b[39m,\u001b[38;5;124m\"\u001b[39m\u001b[38;5;124mmatch\u001b[39m\u001b[38;5;124m\"\u001b[39m)\n\u001b[1;32m     10\u001b[0m \u001b[38;5;28;01melse\u001b[39;00m:\n\u001b[0;32m---> 11\u001b[0m     subcost\u001b[38;5;241m=\u001b[39m\u001b[38;5;241m1\u001b[39m\u001b[38;5;241m+\u001b[39m\u001b[43mrecursive\u001b[49m\u001b[43m(\u001b[49m\u001b[43mm\u001b[49m\u001b[38;5;241;43m-\u001b[39;49m\u001b[38;5;241;43m1\u001b[39;49m\u001b[43m,\u001b[49m\u001b[43mn\u001b[49m\u001b[38;5;241;43m-\u001b[39;49m\u001b[38;5;241;43m1\u001b[39;49m\u001b[43m,\u001b[49m\u001b[38;5;124;43m\"\u001b[39;49m\u001b[38;5;124;43msubstitute\u001b[39;49m\u001b[38;5;124;43m\"\u001b[39;49m\u001b[43m)\u001b[49m\n\u001b[1;32m     12\u001b[0m     delcost\u001b[38;5;241m=\u001b[39m\u001b[38;5;241m1\u001b[39m\u001b[38;5;241m+\u001b[39mrecursive(m\u001b[38;5;241m-\u001b[39m\u001b[38;5;241m1\u001b[39m,n,\u001b[38;5;124m\"\u001b[39m\u001b[38;5;124mdelete\u001b[39m\u001b[38;5;124m\"\u001b[39m)\n\u001b[1;32m     13\u001b[0m     inscost\u001b[38;5;241m=\u001b[39m\u001b[38;5;241m1\u001b[39m\u001b[38;5;241m+\u001b[39mrecursive(m,n\u001b[38;5;241m-\u001b[39m\u001b[38;5;241m1\u001b[39m,\u001b[38;5;124m\"\u001b[39m\u001b[38;5;124minsert\u001b[39m\u001b[38;5;124m\"\u001b[39m)\n",
      "Cell \u001b[0;32mIn[14], line 11\u001b[0m, in \u001b[0;36mcomputeEditDistance.<locals>.recursive\u001b[0;34m(m, n, str)\u001b[0m\n\u001b[1;32m      9\u001b[0m     reult\u001b[38;5;241m=\u001b[39mrecursive(m\u001b[38;5;241m-\u001b[39m\u001b[38;5;241m1\u001b[39m,n\u001b[38;5;241m-\u001b[39m\u001b[38;5;241m1\u001b[39m,\u001b[38;5;124m\"\u001b[39m\u001b[38;5;124mmatch\u001b[39m\u001b[38;5;124m\"\u001b[39m)\n\u001b[1;32m     10\u001b[0m \u001b[38;5;28;01melse\u001b[39;00m:\n\u001b[0;32m---> 11\u001b[0m     subcost\u001b[38;5;241m=\u001b[39m\u001b[38;5;241m1\u001b[39m\u001b[38;5;241m+\u001b[39m\u001b[43mrecursive\u001b[49m\u001b[43m(\u001b[49m\u001b[43mm\u001b[49m\u001b[38;5;241;43m-\u001b[39;49m\u001b[38;5;241;43m1\u001b[39;49m\u001b[43m,\u001b[49m\u001b[43mn\u001b[49m\u001b[38;5;241;43m-\u001b[39;49m\u001b[38;5;241;43m1\u001b[39;49m\u001b[43m,\u001b[49m\u001b[38;5;124;43m\"\u001b[39;49m\u001b[38;5;124;43msubstitute\u001b[39;49m\u001b[38;5;124;43m\"\u001b[39;49m\u001b[43m)\u001b[49m\n\u001b[1;32m     12\u001b[0m     delcost\u001b[38;5;241m=\u001b[39m\u001b[38;5;241m1\u001b[39m\u001b[38;5;241m+\u001b[39mrecursive(m\u001b[38;5;241m-\u001b[39m\u001b[38;5;241m1\u001b[39m,n,\u001b[38;5;124m\"\u001b[39m\u001b[38;5;124mdelete\u001b[39m\u001b[38;5;124m\"\u001b[39m)\n\u001b[1;32m     13\u001b[0m     inscost\u001b[38;5;241m=\u001b[39m\u001b[38;5;241m1\u001b[39m\u001b[38;5;241m+\u001b[39mrecursive(m,n\u001b[38;5;241m-\u001b[39m\u001b[38;5;241m1\u001b[39m,\u001b[38;5;124m\"\u001b[39m\u001b[38;5;124minsert\u001b[39m\u001b[38;5;124m\"\u001b[39m)\n",
      "Cell \u001b[0;32mIn[14], line 13\u001b[0m, in \u001b[0;36mcomputeEditDistance.<locals>.recursive\u001b[0;34m(m, n, str)\u001b[0m\n\u001b[1;32m     11\u001b[0m     subcost\u001b[38;5;241m=\u001b[39m\u001b[38;5;241m1\u001b[39m\u001b[38;5;241m+\u001b[39mrecursive(m\u001b[38;5;241m-\u001b[39m\u001b[38;5;241m1\u001b[39m,n\u001b[38;5;241m-\u001b[39m\u001b[38;5;241m1\u001b[39m,\u001b[38;5;124m\"\u001b[39m\u001b[38;5;124msubstitute\u001b[39m\u001b[38;5;124m\"\u001b[39m)\n\u001b[1;32m     12\u001b[0m     delcost\u001b[38;5;241m=\u001b[39m\u001b[38;5;241m1\u001b[39m\u001b[38;5;241m+\u001b[39mrecursive(m\u001b[38;5;241m-\u001b[39m\u001b[38;5;241m1\u001b[39m,n,\u001b[38;5;124m\"\u001b[39m\u001b[38;5;124mdelete\u001b[39m\u001b[38;5;124m\"\u001b[39m)\n\u001b[0;32m---> 13\u001b[0m     inscost\u001b[38;5;241m=\u001b[39m\u001b[38;5;241m1\u001b[39m\u001b[38;5;241m+\u001b[39m\u001b[43mrecursive\u001b[49m\u001b[43m(\u001b[49m\u001b[43mm\u001b[49m\u001b[43m,\u001b[49m\u001b[43mn\u001b[49m\u001b[38;5;241;43m-\u001b[39;49m\u001b[38;5;241;43m1\u001b[39;49m\u001b[43m,\u001b[49m\u001b[38;5;124;43m\"\u001b[39;49m\u001b[38;5;124;43minsert\u001b[39;49m\u001b[38;5;124;43m\"\u001b[39;49m\u001b[43m)\u001b[49m\n\u001b[1;32m     14\u001b[0m     result\u001b[38;5;241m=\u001b[39m \u001b[38;5;28mmin\u001b[39m(subcost,delcost,inscost)\n\u001b[1;32m     15\u001b[0m \u001b[38;5;28;01mreturn\u001b[39;00m result\n",
      "Cell \u001b[0;32mIn[14], line 15\u001b[0m, in \u001b[0;36mcomputeEditDistance.<locals>.recursive\u001b[0;34m(m, n, str)\u001b[0m\n\u001b[1;32m     13\u001b[0m     inscost\u001b[38;5;241m=\u001b[39m\u001b[38;5;241m1\u001b[39m\u001b[38;5;241m+\u001b[39mrecursive(m,n\u001b[38;5;241m-\u001b[39m\u001b[38;5;241m1\u001b[39m,\u001b[38;5;124m\"\u001b[39m\u001b[38;5;124minsert\u001b[39m\u001b[38;5;124m\"\u001b[39m)\n\u001b[1;32m     14\u001b[0m     result\u001b[38;5;241m=\u001b[39m \u001b[38;5;28mmin\u001b[39m(subcost,delcost,inscost)\n\u001b[0;32m---> 15\u001b[0m \u001b[38;5;28;01mreturn\u001b[39;00m \u001b[43mresult\u001b[49m\n",
      "\u001b[0;31mUnboundLocalError\u001b[0m: local variable 'result' referenced before assignment"
     ]
    }
   ],
   "source": [
    "print(computeEditDistance(\"a cat!\",\"the cats!\"))"
   ]
  },
  {
   "cell_type": "code",
   "execution_count": null,
   "id": "be9097f0",
   "metadata": {},
   "outputs": [],
   "source": []
  },
  {
   "cell_type": "code",
   "execution_count": null,
   "id": "766733f4",
   "metadata": {},
   "outputs": [],
   "source": []
  }
 ],
 "metadata": {
  "kernelspec": {
   "display_name": "Python 3 (ipykernel)",
   "language": "python",
   "name": "python3"
  },
  "language_info": {
   "codemirror_mode": {
    "name": "ipython",
    "version": 3
   },
   "file_extension": ".py",
   "mimetype": "text/x-python",
   "name": "python",
   "nbconvert_exporter": "python",
   "pygments_lexer": "ipython3",
   "version": "3.10.9"
  }
 },
 "nbformat": 4,
 "nbformat_minor": 5
}
