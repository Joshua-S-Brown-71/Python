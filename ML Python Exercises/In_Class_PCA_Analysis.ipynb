{
 "cells": [
  {
   "cell_type": "markdown",
   "metadata": {
    "id": "40jAeaQwZajm"
   },
   "source": [
    "### Principle Component Analysis"
   ]
  },
  {
   "cell_type": "code",
   "execution_count": 1,
   "metadata": {
    "id": "deRzyXV3a6q2"
   },
   "outputs": [],
   "source": [
    "import numpy as np"
   ]
  },
  {
   "cell_type": "code",
   "execution_count": 2,
   "metadata": {
    "id": "sUZxgVbybPg1"
   },
   "outputs": [],
   "source": [
    "### Data\n",
    "features = X = np.array([[4, 8, 13, 7], [11, 4, 5, 14]])"
   ]
  },
  {
   "cell_type": "code",
   "execution_count": 3,
   "metadata": {
    "colab": {
     "base_uri": "https://localhost:8080/"
    },
    "id": "Gxg_SvOlbf-W",
    "outputId": "1e43e392-bcad-4592-d2ca-a22ae4424141"
   },
   "outputs": [
    {
     "data": {
      "text/plain": [
       "array([[ 4,  8, 13,  7],\n",
       "       [11,  4,  5, 14]])"
      ]
     },
     "execution_count": 3,
     "metadata": {},
     "output_type": "execute_result"
    }
   ],
   "source": [
    "X"
   ]
  },
  {
   "cell_type": "code",
   "execution_count": 4,
   "metadata": {
    "colab": {
     "base_uri": "https://localhost:8080/"
    },
    "id": "71vau8zabgfl",
    "outputId": "80863a74-9c79-451e-d54f-7dd08504d885"
   },
   "outputs": [
    {
     "data": {
      "text/plain": [
       "array([[ 4,  8, 13,  7],\n",
       "       [11,  4,  5, 14]])"
      ]
     },
     "execution_count": 4,
     "metadata": {},
     "output_type": "execute_result"
    }
   ],
   "source": [
    "features"
   ]
  },
  {
   "cell_type": "code",
   "execution_count": 5,
   "metadata": {
    "colab": {
     "base_uri": "https://localhost:8080/"
    },
    "id": "A6SzhTG4biA2",
    "outputId": "230ec7eb-d4d7-40f0-8224-bf092a9daa1c"
   },
   "outputs": [
    {
     "data": {
      "text/plain": [
       "(2, 4)"
      ]
     },
     "execution_count": 5,
     "metadata": {},
     "output_type": "execute_result"
    }
   ],
   "source": [
    "X.shape"
   ]
  },
  {
   "cell_type": "markdown",
   "metadata": {
    "id": "nfi657JNbjAW"
   },
   "source": [
    "## Step 1: Calculate Mean"
   ]
  },
  {
   "cell_type": "code",
   "execution_count": 6,
   "metadata": {
    "id": "c2V7K_rabu8-"
   },
   "outputs": [],
   "source": [
    "mean_X1 = np.mean(X[0])\n",
    "mean_X2 = np.mean(X[1])"
   ]
  },
  {
   "cell_type": "code",
   "execution_count": 7,
   "metadata": {
    "colab": {
     "base_uri": "https://localhost:8080/"
    },
    "id": "Tfv-Vhu0b8Uf",
    "outputId": "7c3b08c3-f112-4964-ab6f-6859316e8fcc"
   },
   "outputs": [
    {
     "data": {
      "text/plain": [
       "array([ 4,  8, 13,  7])"
      ]
     },
     "execution_count": 7,
     "metadata": {},
     "output_type": "execute_result"
    }
   ],
   "source": [
    "X[0]"
   ]
  },
  {
   "cell_type": "code",
   "execution_count": 8,
   "metadata": {
    "colab": {
     "base_uri": "https://localhost:8080/"
    },
    "id": "_47WMyIrb9Yv",
    "outputId": "d352f2d9-6aee-4265-ea12-58e901f4c3a5"
   },
   "outputs": [
    {
     "data": {
      "text/plain": [
       "8.0"
      ]
     },
     "execution_count": 8,
     "metadata": {},
     "output_type": "execute_result"
    }
   ],
   "source": [
    "mean_X1"
   ]
  },
  {
   "cell_type": "code",
   "execution_count": 10,
   "metadata": {
    "colab": {
     "base_uri": "https://localhost:8080/"
    },
    "id": "vWObN1wacAMQ",
    "outputId": "afe5d76e-6456-44b7-b4cc-0a49f14b1494"
   },
   "outputs": [
    {
     "data": {
      "text/plain": [
       "8.5"
      ]
     },
     "execution_count": 10,
     "metadata": {},
     "output_type": "execute_result"
    }
   ],
   "source": [
    "mean_X2"
   ]
  },
  {
   "cell_type": "markdown",
   "metadata": {
    "id": "5On8vsVxcccC"
   },
   "source": [
    "### Step 2: Calculate Covariance Matrix"
   ]
  },
  {
   "cell_type": "markdown",
   "metadata": {
    "id": "bPj_bGY3cz-z"
   },
   "source": [
    "$\\mathbf{X} =\n",
    "\\begin{bmatrix}\n",
    " Cov(x_1 x_1) & Cov(x_1 x_2) \\\\\n",
    " Cov(x_2 x_1) & Cov(x_2 x_2) \\\\\n",
    "\\end{bmatrix}\n",
    "$\n",
    "\n",
    "$Cov(\\mathbf{x_1,x_1}) = \\frac{1}{m-1} \\sum\\limits_{k = 1}^{m} (x_1k-x_1\\mu)(x_1k-x_1\\mu)$ \\\n",
    "$Cov(\\mathbf{x_1,x_2}) = \\frac{1}{m-1} \\sum\\limits_{k = 1}^{m} (x_1k-x_1\\mu)(x_2k-x_2\\mu)$ \\\n",
    "$Cov(\\mathbf{x_2,x_1}) = \\frac{1}{m-1} \\sum\\limits_{k = 1}^{m} (x_2k-x_2\\mu)(x_1k-x_1\\mu)$ \\\n",
    "$Cov(\\mathbf{x_2,x_2}) = \\frac{1}{m-1} \\sum\\limits_{k = 1}^{m} (x_2k-x_2\\mu)(x_2k-x_2\\mu)$"
   ]
  },
  {
   "cell_type": "code",
   "execution_count": 23,
   "metadata": {
    "id": "pgqZoKN1dikV"
   },
   "outputs": [],
   "source": [
    "Cov_x1x1 = 1/(X.shape[1]-1) * ((X[0][0] - mean_X1) * (X[0][0] - mean_X1) +\n",
    "                               (X[0][1] - mean_X1) * (X[0][1] - mean_X1) +\n",
    "                               (X[0][2] - mean_X1) * (X[0][2] - mean_X1) +\n",
    "                               (X[0][3] - mean_X1) * (X[0][3] - mean_X1))"
   ]
  },
  {
   "cell_type": "code",
   "execution_count": 24,
   "metadata": {
    "colab": {
     "base_uri": "https://localhost:8080/"
    },
    "id": "zIVI5XnYfM9a",
    "outputId": "61d40f73-19bb-4472-945e-4c9c349c594a"
   },
   "outputs": [
    {
     "data": {
      "text/plain": [
       "14.0"
      ]
     },
     "execution_count": 24,
     "metadata": {},
     "output_type": "execute_result"
    }
   ],
   "source": [
    "Cov_x1x1"
   ]
  },
  {
   "cell_type": "code",
   "execution_count": 19,
   "metadata": {
    "id": "SBK3XzLMeKD4"
   },
   "outputs": [],
   "source": [
    "Cov_x1x2 = 1/(X.shape[1]-1) * ((X[0][0] - mean_X1) * (X[1][0] - mean_X2) +\n",
    "                               (X[0][1] - mean_X1) * (X[1][1] - mean_X2) +\n",
    "                               (X[0][2] - mean_X1) * (X[1][2] - mean_X2) +\n",
    "                               (X[0][3] - mean_X1) * (X[1][3] - mean_X2))"
   ]
  },
  {
   "cell_type": "code",
   "execution_count": 27,
   "metadata": {
    "id": "CT7Vv-yseMvv"
   },
   "outputs": [],
   "source": [
    "Cov_x2x1 = 1/(X.shape[1]-1) * ((X[1][0] - mean_X2) * (X[0][0] - mean_X1) +\n",
    "                               (X[1][1] - mean_X2) * (X[0][1] - mean_X1) +\n",
    "                               (X[1][2] - mean_X2) * (X[0][2] - mean_X1) +\n",
    "                               (X[1][3] - mean_X2) * (X[0][3] - mean_X1))"
   ]
  },
  {
   "cell_type": "code",
   "execution_count": 28,
   "metadata": {
    "colab": {
     "base_uri": "https://localhost:8080/"
    },
    "id": "18FAC3wmgARU",
    "outputId": "f9d9985e-7cdc-4097-86af-97fecff3909e"
   },
   "outputs": [
    {
     "data": {
      "text/plain": [
       "-11.0"
      ]
     },
     "execution_count": 28,
     "metadata": {},
     "output_type": "execute_result"
    }
   ],
   "source": [
    "Cov_x2x1"
   ]
  },
  {
   "cell_type": "code",
   "execution_count": 29,
   "metadata": {
    "id": "LTgL4LVfgmJF"
   },
   "outputs": [],
   "source": [
    "Cov_x2x2 = 1/(X.shape[1]-1) * ((X[1][0] - mean_X2) * (X[1][0] - mean_X2) +\n",
    "                               (X[1][1] - mean_X2) * (X[1][1] - mean_X2) +\n",
    "                               (X[1][2] - mean_X2) * (X[1][2] - mean_X2) +\n",
    "                               (X[1][3] - mean_X2) * (X[1][3] - mean_X2))"
   ]
  },
  {
   "cell_type": "code",
   "execution_count": 30,
   "metadata": {
    "colab": {
     "base_uri": "https://localhost:8080/"
    },
    "id": "MkZnT4jmg4EF",
    "outputId": "6dba1620-90e3-4ada-eba7-d919b3d80bd2"
   },
   "outputs": [
    {
     "data": {
      "text/plain": [
       "23.0"
      ]
     },
     "execution_count": 30,
     "metadata": {},
     "output_type": "execute_result"
    }
   ],
   "source": [
    "Cov_x2x2"
   ]
  },
  {
   "cell_type": "code",
   "execution_count": 31,
   "metadata": {
    "id": "oLojcWDpg6SF"
   },
   "outputs": [],
   "source": [
    "## Covariance Matrix\n",
    "S = np.array([[Cov_x1x1, Cov_x1x2], [Cov_x2x1, Cov_x2x2]])"
   ]
  },
  {
   "cell_type": "code",
   "execution_count": 32,
   "metadata": {
    "colab": {
     "base_uri": "https://localhost:8080/"
    },
    "id": "ePLGTNQxhVG6",
    "outputId": "83c0bc5d-025e-4e40-dd43-ae205a9209d1"
   },
   "outputs": [
    {
     "data": {
      "text/plain": [
       "array([[ 14., -11.],\n",
       "       [-11.,  23.]])"
      ]
     },
     "execution_count": 32,
     "metadata": {},
     "output_type": "execute_result"
    }
   ],
   "source": [
    "S"
   ]
  },
  {
   "cell_type": "markdown",
   "metadata": {
    "id": "MFMm7AzChWhC"
   },
   "source": [
    "### Step 3: Calculate Eigenvalues of the covariance matrix"
   ]
  },
  {
   "cell_type": "markdown",
   "metadata": {
    "id": "9EikG0Ychveg"
   },
   "source": [
    "$I = \\begin{vmatrix} {1} & {0} \\\\ {0} & {1} \\end{vmatrix}$  \n",
    "\n",
    "$\\lambda I = \\begin{vmatrix} {\\lambda} & {0} \\\\ {0} & {\\lambda} \\end{vmatrix}$  \n",
    "\n",
    "$det(\\mathbf{S - \\lambda I}) = 0$  \n",
    "\n",
    "$\\begin{vmatrix} {14-\\lambda} & {-11} \\\\ {-11} & {23-\\lambda} \\end{vmatrix} = 0$  \n",
    "\n",
    "$\\mathbf{(14 - \\lambda)(23-\\lambda) - (-11)(-11)} = 0$  \n",
    "\n",
    "$\\lambda^{2} - 37 \\lambda + 201 = 0$  \n",
    "\n",
    "$\\lambda = (30.3849, 6.151)$"
   ]
  },
  {
   "cell_type": "markdown",
   "metadata": {
    "id": "W4xhPgyzivF5"
   },
   "source": [
    "### Step4: Computation of eigenvectors"
   ]
  },
  {
   "cell_type": "markdown",
   "metadata": {
    "id": "A-XHjFlYi6yq"
   },
   "source": [
    "$\\mathbf{U} =  \\begin{bmatrix} u_{1} \\\\  u_{2} \\\\ \\end{bmatrix}$\n",
    "\n",
    "$\\mathbf({S - \\lambda I}U) = \\begin{bmatrix} {0} \\\\  {0} \\\\ \\end{bmatrix}$  \n",
    "\n",
    "$\\begin{bmatrix} {14-\\lambda} & {-11} \\\\ {-11} & {23-\\lambda} \\end{bmatrix} \\begin{bmatrix} u_{1} \\\\  u_{2} \\\\ \\end{bmatrix} = \\begin{bmatrix} {0} \\\\  {0} \\\\ \\end{bmatrix}$  \n",
    "\n",
    "$\\begin{bmatrix} {(14-\\lambda)u_{1}} & {-11}u_{2} \\\\ {-11}u_{1} & {(23-\\lambda)u_{2}} \\end{bmatrix}  = \\begin{bmatrix} {0} \\\\  {0} \\\\ \\end{bmatrix}$  \n",
    "\n",
    "$\\mathbf(14-\\lambda) u_{1} - 11 u_{2} = 0$  \n",
    "\n",
    "$\\frac {u{1}}{11} = \\frac {u{2}}{14-\\lambda} = t$  \n",
    "\n",
    "$u_{1} = 11t, \\ u_{2} = (14-\\lambda) t$  \n",
    "\n",
    "$\\mathbf{U_{1}} =  \\begin{bmatrix} {11} \\\\  {14 - \\lambda _{1}} \\\\ \\end{bmatrix}$\n",
    "\n",
    "$\\mathbf- 11 u_{1} + {(23-\\lambda) u_{2}}  = 0$  \n",
    "\n",
    "$\\frac {u{1}}{23-\\lambda} = \\frac {u{2}}{11} = t$\n",
    "\n",
    "$u_{1} = (23 - \\lambda)t, \\ u_{2} = 11 t$  \n",
    "\n",
    "$\\mathbf{U_{2}} =  \\begin{bmatrix} {23 - \\lambda _{2}} \\\\  {11} \\\\ \\end{bmatrix}$\n",
    "\n",
    "$\\lambda = (30.3849, 6.151) \\ for \\ PC \\ consider \\ largest \\ eigenvalue \\ and \\ for \\ second \\ PC \\ use \\ the \\ next \\ one$\n"
   ]
  },
  {
   "cell_type": "markdown",
   "metadata": {
    "id": "otGeGqULjaa6"
   },
   "source": [
    "### Step 5: Unit eigenvector"
   ]
  },
  {
   "cell_type": "markdown",
   "metadata": {
    "id": "yn5eq7PikATD"
   },
   "source": [
    "$length \\ of \\ U1 = \\mathbf{|| U_{1} ||} =  \\sqrt{(11^{2} + (14-\\lambda _{1} ^{2})} \\ = 19.7348$  \n",
    "\n",
    "$\\mathbf{e_{1}} =  \\begin{bmatrix} \\frac {{11}}{|| U_{1} ||} \\\\  \\frac {{(14 - \\lambda)}}{|| U_{1} ||} \\end{bmatrix}$  \n",
    "\n",
    "$\\mathbf{e_{1}} =  \\begin{bmatrix} \\frac {{11}}{19.7348} \\\\  \\frac {{(14 - 30.3849)}}{19.7348} \\end{bmatrix}$   \n",
    "\n",
    "$\\mathbf{e_{1}} =  \\begin{bmatrix} 0.5574 \\\\  -0.8303 \\end{bmatrix}$\n",
    "\n",
    "$using \\ \\lambda_{2} = 6.6151 $  \n",
    "\n",
    "$\\mathbf{e_{2}} =  \\begin{bmatrix} 0.8303 \\\\  0.5574 \\end{bmatrix}$\n"
   ]
  },
  {
   "cell_type": "markdown",
   "metadata": {
    "id": "5k4zbsxwkSQj"
   },
   "source": [
    "### Step 6: Compute first Principle Component"
   ]
  },
  {
   "cell_type": "markdown",
   "metadata": {
    "id": "kjCrpLwSkkjs"
   },
   "source": [
    "$\\mathbf{e_{1}^{T}}\\begin{bmatrix} (x_1k-x_1\\mu)\\\\  (x_2k-x_2\\mu) \\end{bmatrix}$  \n",
    "\n",
    "$=  \\begin{bmatrix} (0.5574-0.8303)\\end{bmatrix} \\begin{bmatrix} (x_{11}-x_1\\mu)\\\\  (x_{21}-x_2\\mu) \\end{bmatrix}$\n",
    "\n",
    "\n",
    "$=  (0.5574)(x_{11}-x_1\\mu) - 0.8303(x_{21}-x_2\\mu)$  \n",
    "\n",
    "$=  (0.5574)(4-8) - 0.8303(1-8.5)$  \n",
    "\n",
    "$=  -4.30535$\n",
    "\n",
    "$=  (0.5574)(x_{12}-x_1\\mu) - 0.8303(x_{22}-x_2\\mu) \\ = 3.7361$  \n",
    "\n",
    "$=  (0.5574)(x_{13}-x_1\\mu) - 0.8303(x_{23}-x_2\\mu) \\ = 5.6928$  \n",
    "\n",
    "$=  (0.5574)(x_{14}-x_1\\mu) - 0.8303(x_{24}-x_2\\mu) \\ = -5.1238$  \n",
    "\n"
   ]
  },
  {
   "cell_type": "code",
   "execution_count": 36,
   "metadata": {
    "colab": {
     "base_uri": "https://localhost:8080/"
    },
    "id": "gotIsIE_k8m8",
    "outputId": "8e1968f2-7586-4c5d-cb67-af855ffee4c8"
   },
   "outputs": [
    {
     "name": "stdout",
     "output_type": "stream",
     "text": [
      "| Features                   |   Instance 1 |   Instance 2 |   Instance 3 |   Instance 4 |\n",
      "|:---------------------------|-------------:|-------------:|-------------:|-------------:|\n",
      "| X1                         |      4       |       8      |      13      |       7      |\n",
      "| X2                         |     11       |       4      |       5      |      14      |\n",
      "| First Principle Components |     -4.30535 |       3.7361 |       5.6928 |      -5.1238 |\n"
     ]
    }
   ],
   "source": [
    "from tabulate import tabulate\n",
    "\n",
    "# Define the table data\n",
    "table_data = [\n",
    "    [\"Features\", \"Instance 1\", \"Instance 2\", \"Instance 3\", \"Instance 4\"],\n",
    "    [\"X1\", \"4\", \"8\", \"13\", \"7\"],\n",
    "    [\"X2\", \"11\", \"4\", \"5\", \"14\"],\n",
    "    [\"First Principle Components\", \"-4.30535\", \"3.7361\", \"5.6928\", \"-5.1238\"]\n",
    "]\n",
    "\n",
    "# Generate the table\n",
    "table = tabulate(table_data, headers='firstrow', tablefmt='pipe')\n",
    "print(table)"
   ]
  },
  {
   "cell_type": "code",
   "execution_count": null,
   "metadata": {
    "id": "Au0pUtA1lBrF"
   },
   "outputs": [],
   "source": []
  }
 ],
 "metadata": {
  "colab": {
   "provenance": []
  },
  "kernelspec": {
   "display_name": "Python 3 (ipykernel)",
   "language": "python",
   "name": "python3"
  },
  "language_info": {
   "codemirror_mode": {
    "name": "ipython",
    "version": 3
   },
   "file_extension": ".py",
   "mimetype": "text/x-python",
   "name": "python",
   "nbconvert_exporter": "python",
   "pygments_lexer": "ipython3",
   "version": "3.10.9"
  }
 },
 "nbformat": 4,
 "nbformat_minor": 1
}
