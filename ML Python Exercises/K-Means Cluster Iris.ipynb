{
 "cells": [
  {
   "cell_type": "code",
   "execution_count": 72,
   "id": "3f083981",
   "metadata": {},
   "outputs": [],
   "source": [
    "import scipy.io\n",
    "import numpy as np\n",
    "import pandas as pd\n",
    "import seaborn as sns\n",
    "import matplotlib.pyplot as plt\n",
    "%matplotlib inline"
   ]
  },
  {
   "cell_type": "code",
   "execution_count": 79,
   "id": "baf040f7",
   "metadata": {},
   "outputs": [],
   "source": [
    "K = 3\n",
    "X = np.array([\n",
    "      [5.1, 3.5, 1.4, 0.2], [4.9, 3, 1.4, 0.2], [4.7, 3.2, 1.3, 0.2], [4.6, 3.1, 1.5, 0.2], [5, 3.6, 1.4, 0.2],\n",
    "      [7, 3.2, 4.7, 1.4], [6.4, 3.2, 4.5, 1.5], [6.9, 3.1, 4.9, 1.5], [5.5, 2.3, 4, 1.3], [6.5, 2.8, 4.6, 1.5],\n",
    "      [6.3, 3.3, 6, 2.5], [5.8, 2.7, 5.1, 1.9], [7.1, 3, 5.9, 2.1], [6.3, 2.9, 5.6, 1.8], [6.5, 3, 5.8, 2.2]])\n",
    "initial_centroids = np.array([[6.3, 3.3, 6, 2.5], [5.8, 2.7, 5.1, 1.9], [7.1, 3, 5.9, 2.1]])"
   ]
  },
  {
   "cell_type": "code",
   "execution_count": 80,
   "id": "c8196253",
   "metadata": {},
   "outputs": [
    {
     "data": {
      "text/plain": [
       "array([[6.3, 3.3, 6. , 2.5],\n",
       "       [5.8, 2.7, 5.1, 1.9],\n",
       "       [7.1, 3. , 5.9, 2.1]])"
      ]
     },
     "execution_count": 80,
     "metadata": {},
     "output_type": "execute_result"
    }
   ],
   "source": [
    "initial_centroids"
   ]
  },
  {
   "cell_type": "code",
   "execution_count": 81,
   "id": "25c0e08c",
   "metadata": {},
   "outputs": [
    {
     "data": {
      "text/plain": [
       "array([5.1, 3.5, 1.4, 0.2])"
      ]
     },
     "execution_count": 81,
     "metadata": {},
     "output_type": "execute_result"
    }
   ],
   "source": [
    "X[0,:]"
   ]
  },
  {
   "cell_type": "code",
   "execution_count": 82,
   "id": "6c000197",
   "metadata": {},
   "outputs": [
    {
     "data": {
      "text/plain": [
       "3"
      ]
     },
     "execution_count": 82,
     "metadata": {},
     "output_type": "execute_result"
    }
   ],
   "source": [
    "np.argmin(np.sqrt(np.sum((X[5,:]-initial_centroids)**2, axis=1)))+1"
   ]
  },
  {
   "cell_type": "code",
   "execution_count": 83,
   "id": "af0c7751",
   "metadata": {},
   "outputs": [],
   "source": [
    "def find_closest_centroid(X, centroids):\n",
    "    idx = np.zeros((X.shape[0],1))\n",
    "    for i in range(X.shape[0]):\n",
    "        idx[i] = np.argmin(np.sqrt(np.sum((X[i,:]-centroids)**2, axis=1)))+1\n",
    "        #print(idx[i])\n",
    "    return idx"
   ]
  },
  {
   "cell_type": "code",
   "execution_count": 84,
   "id": "a76312e9",
   "metadata": {},
   "outputs": [],
   "source": [
    "def compute_centroids(X, idx, K):\n",
    "    centroids = np.zeros((K, X.shape[1]))\n",
    "    for i in range(K):\n",
    "        centroids[i,:] = np.mean(X[(idx==i+1).T[0], :], axis=0)\n",
    "        \n",
    "        #print('X[(idx==i+1).T[0] {} centroids[i,:] {}'.format(X[(idx==i+1).T[0], :], centroids[i,:]))\n",
    "    return centroids"
   ]
  },
  {
   "cell_type": "code",
   "execution_count": 85,
   "id": "e138b180",
   "metadata": {},
   "outputs": [
    {
     "name": "stdout",
     "output_type": "stream",
     "text": [
      "X [5.1 3.5 1.4 0.2] cluster [2.]\n",
      "X [4.9 3.  1.4 0.2] cluster [2.]\n",
      "X [4.7 3.2 1.3 0.2] cluster [2.]\n",
      "X [4.6 3.1 1.5 0.2] cluster [2.]\n",
      "X [5.  3.6 1.4 0.2] cluster [2.]\n",
      "X [7.  3.2 4.7 1.4] cluster [3.]\n",
      "X [6.4 3.2 4.5 1.5] cluster [2.]\n",
      "X [6.9 3.1 4.9 1.5] cluster [3.]\n",
      "X [5.5 2.3 4.  1.3] cluster [2.]\n",
      "X [6.5 2.8 4.6 1.5] cluster [2.]\n",
      "X [6.3 3.3 6.  2.5] cluster [1.]\n",
      "X [5.8 2.7 5.1 1.9] cluster [2.]\n",
      "X [7.1 3.  5.9 2.1] cluster [3.]\n",
      "X [6.3 2.9 5.6 1.8] cluster [2.]\n",
      "X [6.5 3.  5.8 2.2] cluster [1.]\n",
      "[[6.4        3.15       5.9        2.35      ]\n",
      " [5.48       3.03       3.08       0.9       ]\n",
      " [7.         3.1        5.16666667 1.66666667]]\n"
     ]
    }
   ],
   "source": [
    "clusters = find_closest_centroid(X, initial_centroids)\n",
    "for i in range (X.shape[0]):\n",
    "    print('X {} cluster {}'.format(X[i], clusters[i]))\n",
    "\n",
    "new_centroids = compute_centroids(X, clusters, K)\n",
    "print(new_centroids)"
   ]
  },
  {
   "cell_type": "code",
   "execution_count": 86,
   "id": "eca83d64",
   "metadata": {},
   "outputs": [
    {
     "name": "stdout",
     "output_type": "stream",
     "text": [
      "[[6.3 3.3 6.  2.5]\n",
      " [6.5 3.  5.8 2.2]]\n",
      "[6.4  3.15 5.9  2.35]\n"
     ]
    }
   ],
   "source": [
    "print(X[(clusters==0+1).T[0], :])\n",
    "print(np.mean(X[(clusters==0+1).T[0], :], axis=0))"
   ]
  },
  {
   "cell_type": "code",
   "execution_count": 87,
   "id": "e045a2ad",
   "metadata": {},
   "outputs": [
    {
     "name": "stdout",
     "output_type": "stream",
     "text": [
      "X [5.1 3.5 1.4 0.2] cluster [2.]\n",
      "X [4.9 3.  1.4 0.2] cluster [2.]\n",
      "X [4.7 3.2 1.3 0.2] cluster [2.]\n",
      "X [4.6 3.1 1.5 0.2] cluster [2.]\n",
      "X [5.  3.6 1.4 0.2] cluster [2.]\n",
      "X [7.  3.2 4.7 1.4] cluster [3.]\n",
      "X [6.4 3.2 4.5 1.5] cluster [3.]\n",
      "X [6.9 3.1 4.9 1.5] cluster [3.]\n",
      "X [5.5 2.3 4.  1.3] cluster [2.]\n",
      "X [6.5 2.8 4.6 1.5] cluster [3.]\n",
      "X [6.3 3.3 6.  2.5] cluster [1.]\n",
      "X [5.8 2.7 5.1 1.9] cluster [1.]\n",
      "X [7.1 3.  5.9 2.1] cluster [1.]\n",
      "X [6.3 2.9 5.6 1.8] cluster [1.]\n",
      "X [6.5 3.  5.8 2.2] cluster [1.]\n",
      "[[6.4        2.98       5.68       2.1       ]\n",
      " [4.96666667 3.11666667 1.83333333 0.38333333]\n",
      " [6.7        3.075      4.675      1.475     ]]\n"
     ]
    }
   ],
   "source": [
    "clusters = find_closest_centroid(X, new_centroids)\n",
    "for i in range (X.shape[0]):\n",
    "    print('X {} cluster {}'.format(X[i], clusters[i]))\n",
    "\n",
    "new_centroids = compute_centroids(X, clusters, K)\n",
    "print(new_centroids)"
   ]
  },
  {
   "cell_type": "code",
   "execution_count": 88,
   "id": "a6fbf805",
   "metadata": {},
   "outputs": [
    {
     "name": "stdout",
     "output_type": "stream",
     "text": [
      "X [5.1 3.5 1.4 0.2] cluster [2.]\n",
      "X [4.9 3.  1.4 0.2] cluster [2.]\n",
      "X [4.7 3.2 1.3 0.2] cluster [2.]\n",
      "X [4.6 3.1 1.5 0.2] cluster [2.]\n",
      "X [5.  3.6 1.4 0.2] cluster [2.]\n",
      "X [7.  3.2 4.7 1.4] cluster [3.]\n",
      "X [6.4 3.2 4.5 1.5] cluster [3.]\n",
      "X [6.9 3.1 4.9 1.5] cluster [3.]\n",
      "X [5.5 2.3 4.  1.3] cluster [3.]\n",
      "X [6.5 2.8 4.6 1.5] cluster [3.]\n",
      "X [6.3 3.3 6.  2.5] cluster [1.]\n",
      "X [5.8 2.7 5.1 1.9] cluster [1.]\n",
      "X [7.1 3.  5.9 2.1] cluster [1.]\n",
      "X [6.3 2.9 5.6 1.8] cluster [1.]\n",
      "X [6.5 3.  5.8 2.2] cluster [1.]\n",
      "[[6.4  2.98 5.68 2.1 ]\n",
      " [4.86 3.28 1.4  0.2 ]\n",
      " [6.46 2.92 4.54 1.44]]\n"
     ]
    }
   ],
   "source": [
    "clusters = find_closest_centroid(X, new_centroids)\n",
    "for i in range (X.shape[0]):\n",
    "    print('X {} cluster {}'.format(X[i], clusters[i]))\n",
    "\n",
    "new_centroids = compute_centroids(X, clusters, K)\n",
    "print(new_centroids)"
   ]
  },
  {
   "cell_type": "code",
   "execution_count": null,
   "id": "a3d5dc8a",
   "metadata": {},
   "outputs": [],
   "source": []
  }
 ],
 "metadata": {
  "kernelspec": {
   "display_name": "Python 3 (ipykernel)",
   "language": "python",
   "name": "python3"
  },
  "language_info": {
   "codemirror_mode": {
    "name": "ipython",
    "version": 3
   },
   "file_extension": ".py",
   "mimetype": "text/x-python",
   "name": "python",
   "nbconvert_exporter": "python",
   "pygments_lexer": "ipython3",
   "version": "3.10.9"
  }
 },
 "nbformat": 4,
 "nbformat_minor": 5
}
