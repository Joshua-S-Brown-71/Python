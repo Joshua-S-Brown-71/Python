{
 "cells": [
  {
   "cell_type": "code",
   "execution_count": 1,
   "id": "8a05a942",
   "metadata": {},
   "outputs": [],
   "source": [
    "import pandas as pd\n",
    "import numpy as np"
   ]
  },
  {
   "cell_type": "markdown",
   "id": "dc530911",
   "metadata": {},
   "source": [
    "Day\t| Outlook | Temperature | Humidity | Wind |\tPlay | Golf|\n",
    "----|---------|-------------|----------|------|------|-----|\n",
    "D1 | Sunny | Hot | High | Weak | No |\n",
    "D2 | Sunny | Hot | High | Strong | No | \n",
    "D3 | Overcast | Hot | High | Weak | Yes\n",
    "D4 | Rain | Mild | High | Weak | Yes | \n",
    "D5 | Rain | Cool | Normal | Weak | Yes |\n",
    "D6 | Rain | Cool | Normal | Weak | No |\n",
    "D7 | Overcast | Cool | Normal | Strong | Yes |\n",
    "D8 | Sunny | Mild | High | Weak | No |\n",
    "D9 | Sunny | Cool | Normal | Weak | Yes |\n",
    "D10 | Rain | Mild | Normal | Weak | Yes |\n",
    "D11 | Sunny | Mild | Normal | Strong | Yes |\n",
    "D12 | Overcast | Mild | High | Strong | Yes |\n",
    "D13 | Overcast | Hot | Normal | Weak | Yes |\n",
    "D14 | Rain | Mild | High | Strong | No |"
   ]
  },
  {
   "cell_type": "code",
   "execution_count": 2,
   "id": "7a78256f",
   "metadata": {},
   "outputs": [],
   "source": [
    "df = pd.read_csv('Tennis.csv')"
   ]
  },
  {
   "cell_type": "code",
   "execution_count": 3,
   "id": "7afbad4d",
   "metadata": {},
   "outputs": [
    {
     "data": {
      "text/html": [
       "<div>\n",
       "<style scoped>\n",
       "    .dataframe tbody tr th:only-of-type {\n",
       "        vertical-align: middle;\n",
       "    }\n",
       "\n",
       "    .dataframe tbody tr th {\n",
       "        vertical-align: top;\n",
       "    }\n",
       "\n",
       "    .dataframe thead th {\n",
       "        text-align: right;\n",
       "    }\n",
       "</style>\n",
       "<table border=\"1\" class=\"dataframe\">\n",
       "  <thead>\n",
       "    <tr style=\"text-align: right;\">\n",
       "      <th></th>\n",
       "      <th>Day</th>\n",
       "      <th>Outlook</th>\n",
       "      <th>Temperature</th>\n",
       "      <th>Humidity</th>\n",
       "      <th>Wind</th>\n",
       "      <th>Play Golf</th>\n",
       "    </tr>\n",
       "  </thead>\n",
       "  <tbody>\n",
       "    <tr>\n",
       "      <th>0</th>\n",
       "      <td>D1</td>\n",
       "      <td>Sunny</td>\n",
       "      <td>Hot</td>\n",
       "      <td>High</td>\n",
       "      <td>Weak</td>\n",
       "      <td>No</td>\n",
       "    </tr>\n",
       "    <tr>\n",
       "      <th>1</th>\n",
       "      <td>D2</td>\n",
       "      <td>Sunny</td>\n",
       "      <td>Hot</td>\n",
       "      <td>High</td>\n",
       "      <td>Strong</td>\n",
       "      <td>No</td>\n",
       "    </tr>\n",
       "    <tr>\n",
       "      <th>2</th>\n",
       "      <td>D3</td>\n",
       "      <td>Overcast</td>\n",
       "      <td>Hot</td>\n",
       "      <td>High</td>\n",
       "      <td>Weak</td>\n",
       "      <td>Yes</td>\n",
       "    </tr>\n",
       "    <tr>\n",
       "      <th>3</th>\n",
       "      <td>D4</td>\n",
       "      <td>Rain</td>\n",
       "      <td>Mild</td>\n",
       "      <td>High</td>\n",
       "      <td>Weak</td>\n",
       "      <td>Yes</td>\n",
       "    </tr>\n",
       "    <tr>\n",
       "      <th>4</th>\n",
       "      <td>D5</td>\n",
       "      <td>Rain</td>\n",
       "      <td>Cool</td>\n",
       "      <td>Normal</td>\n",
       "      <td>Weak</td>\n",
       "      <td>Yes</td>\n",
       "    </tr>\n",
       "    <tr>\n",
       "      <th>5</th>\n",
       "      <td>D6</td>\n",
       "      <td>Rain</td>\n",
       "      <td>Cool</td>\n",
       "      <td>Normal</td>\n",
       "      <td>Weak</td>\n",
       "      <td>No</td>\n",
       "    </tr>\n",
       "    <tr>\n",
       "      <th>6</th>\n",
       "      <td>D7</td>\n",
       "      <td>Overcast</td>\n",
       "      <td>Cool</td>\n",
       "      <td>Normal</td>\n",
       "      <td>Strong</td>\n",
       "      <td>Yes</td>\n",
       "    </tr>\n",
       "    <tr>\n",
       "      <th>7</th>\n",
       "      <td>D8</td>\n",
       "      <td>Sunny</td>\n",
       "      <td>Mild</td>\n",
       "      <td>High</td>\n",
       "      <td>Weak</td>\n",
       "      <td>No</td>\n",
       "    </tr>\n",
       "    <tr>\n",
       "      <th>8</th>\n",
       "      <td>D9</td>\n",
       "      <td>Sunny</td>\n",
       "      <td>Cool</td>\n",
       "      <td>Normal</td>\n",
       "      <td>Weak</td>\n",
       "      <td>Yes</td>\n",
       "    </tr>\n",
       "    <tr>\n",
       "      <th>9</th>\n",
       "      <td>D10</td>\n",
       "      <td>Rain</td>\n",
       "      <td>Mild</td>\n",
       "      <td>Normal</td>\n",
       "      <td>Weak</td>\n",
       "      <td>Yes</td>\n",
       "    </tr>\n",
       "    <tr>\n",
       "      <th>10</th>\n",
       "      <td>D11</td>\n",
       "      <td>Sunny</td>\n",
       "      <td>Mild</td>\n",
       "      <td>Normal</td>\n",
       "      <td>Strong</td>\n",
       "      <td>Yes</td>\n",
       "    </tr>\n",
       "    <tr>\n",
       "      <th>11</th>\n",
       "      <td>D12</td>\n",
       "      <td>Overcast</td>\n",
       "      <td>Mild</td>\n",
       "      <td>High</td>\n",
       "      <td>Strong</td>\n",
       "      <td>Yes</td>\n",
       "    </tr>\n",
       "    <tr>\n",
       "      <th>12</th>\n",
       "      <td>D13</td>\n",
       "      <td>Overcast</td>\n",
       "      <td>Hot</td>\n",
       "      <td>Normal</td>\n",
       "      <td>Weak</td>\n",
       "      <td>Yes</td>\n",
       "    </tr>\n",
       "    <tr>\n",
       "      <th>13</th>\n",
       "      <td>D14</td>\n",
       "      <td>Rain</td>\n",
       "      <td>Mild</td>\n",
       "      <td>High</td>\n",
       "      <td>Strong</td>\n",
       "      <td>No</td>\n",
       "    </tr>\n",
       "  </tbody>\n",
       "</table>\n",
       "</div>"
      ],
      "text/plain": [
       "    Day   Outlook Temperature Humidity    Wind Play Golf\n",
       "0    D1     Sunny         Hot     High    Weak        No\n",
       "1    D2     Sunny         Hot     High  Strong        No\n",
       "2    D3  Overcast         Hot     High    Weak       Yes\n",
       "3    D4      Rain        Mild     High    Weak       Yes\n",
       "4    D5      Rain        Cool   Normal    Weak       Yes\n",
       "5    D6      Rain        Cool   Normal    Weak        No\n",
       "6    D7  Overcast        Cool   Normal  Strong       Yes\n",
       "7    D8     Sunny        Mild     High    Weak        No\n",
       "8    D9     Sunny        Cool   Normal    Weak       Yes\n",
       "9   D10      Rain        Mild   Normal    Weak       Yes\n",
       "10  D11     Sunny        Mild   Normal  Strong       Yes\n",
       "11  D12  Overcast        Mild     High  Strong       Yes\n",
       "12  D13  Overcast         Hot   Normal    Weak       Yes\n",
       "13  D14      Rain        Mild     High  Strong        No"
      ]
     },
     "execution_count": 3,
     "metadata": {},
     "output_type": "execute_result"
    }
   ],
   "source": [
    "df.head(14)"
   ]
  },
  {
   "cell_type": "markdown",
   "id": "51d06e75",
   "metadata": {},
   "source": [
    "### Information Gain\n",
    "- In order to pick which, feature to split on, we need a way of measuring how good the split is. This is where information gain and entropy come in.\n",
    "\n",
    "$Shannon-entropy: H(x) = -\\sum\\limits_{i = 1}^{n} P(X_{i})log_{2}P(X_{i})$ \\\n",
    "$P_{i} = $ probability of occurence of value i \n",
    "- High entropy: All the classes are nearly equally likely\n",
    "- Low entropy: A few classes are likely; most of the classes are rarely observed\n",
    "- Assume 0 $log_{2}$ = 0\n",
    "- For completely homogoeneous dataset (all True or all False): entrpy is 0\n",
    "- If dataset is equally divided (same amount of True and all False): entrpy is 1"
   ]
  },
  {
   "cell_type": "code",
   "execution_count": 4,
   "id": "a6d31f4f",
   "metadata": {},
   "outputs": [
    {
     "data": {
      "text/plain": [
       "Index(['Day', 'Outlook', 'Temperature', 'Humidity', 'Wind', 'Play Golf'], dtype='object')"
      ]
     },
     "execution_count": 4,
     "metadata": {},
     "output_type": "execute_result"
    }
   ],
   "source": [
    "df.columns"
   ]
  },
  {
   "cell_type": "code",
   "execution_count": 5,
   "id": "7ebdcc1a",
   "metadata": {},
   "outputs": [
    {
     "data": {
      "text/plain": [
       "array(['No', 'Yes'], dtype=object)"
      ]
     },
     "execution_count": 5,
     "metadata": {},
     "output_type": "execute_result"
    }
   ],
   "source": [
    "df[df.columns[5]].unique()"
   ]
  },
  {
   "cell_type": "code",
   "execution_count": 20,
   "id": "53e6c1c2",
   "metadata": {},
   "outputs": [
    {
     "data": {
      "text/plain": [
       "Day            9\n",
       "Outlook        9\n",
       "Temperature    9\n",
       "Humidity       9\n",
       "Wind           9\n",
       "Play Golf      9\n",
       "dtype: int64"
      ]
     },
     "execution_count": 20,
     "metadata": {},
     "output_type": "execute_result"
    }
   ],
   "source": [
    "df[df['Play Golf'] == 'Yes']"
   ]
  },
  {
   "cell_type": "code",
   "execution_count": 7,
   "id": "6b8a2145",
   "metadata": {},
   "outputs": [
    {
     "data": {
      "text/plain": [
       "(14,)"
      ]
     },
     "execution_count": 7,
     "metadata": {},
     "output_type": "execute_result"
    }
   ],
   "source": [
    "df[df.columns[5]].shape"
   ]
  },
  {
   "cell_type": "code",
   "execution_count": 9,
   "id": "064e8112",
   "metadata": {},
   "outputs": [],
   "source": [
    "PG = df[df.columns[5]].shape[0]"
   ]
  },
  {
   "cell_type": "code",
   "execution_count": 10,
   "id": "4f432847",
   "metadata": {},
   "outputs": [
    {
     "data": {
      "text/plain": [
       "14"
      ]
     },
     "execution_count": 10,
     "metadata": {},
     "output_type": "execute_result"
    }
   ],
   "source": [
    "PG"
   ]
  },
  {
   "cell_type": "code",
   "execution_count": 16,
   "id": "1ebe4090",
   "metadata": {},
   "outputs": [],
   "source": [
    "PG_No = df[df[df.columns[5]] == df[df.columns[5]].unique()[0]].shape[0] #need to shorten this"
   ]
  },
  {
   "cell_type": "code",
   "execution_count": 17,
   "id": "dae7b483",
   "metadata": {},
   "outputs": [
    {
     "data": {
      "text/plain": [
       "5"
      ]
     },
     "execution_count": 17,
     "metadata": {},
     "output_type": "execute_result"
    }
   ],
   "source": [
    "PG_No"
   ]
  },
  {
   "cell_type": "code",
   "execution_count": 18,
   "id": "7cbe7f22",
   "metadata": {},
   "outputs": [],
   "source": [
    "PG_Yes = df[df[df.columns[5]] == df[df.columns[5]].unique()[1]].shape[0]"
   ]
  },
  {
   "cell_type": "code",
   "execution_count": 19,
   "id": "17eea827",
   "metadata": {},
   "outputs": [
    {
     "data": {
      "text/plain": [
       "9"
      ]
     },
     "execution_count": 19,
     "metadata": {},
     "output_type": "execute_result"
    }
   ],
   "source": [
    "PG_Yes"
   ]
  },
  {
   "cell_type": "markdown",
   "id": "56e3cfc5",
   "metadata": {},
   "source": [
    "$Shannon-entropy: H(x) = -\\sum\\limits_{i = 1}^{n} P(X_{i})log_{2}P(X_{i})$"
   ]
  },
  {
   "cell_type": "code",
   "execution_count": 21,
   "id": "7c48a8a1",
   "metadata": {},
   "outputs": [
    {
     "data": {
      "text/plain": [
       "0.6428571428571429"
      ]
     },
     "execution_count": 21,
     "metadata": {},
     "output_type": "execute_result"
    }
   ],
   "source": [
    "PG_Yes/PG"
   ]
  },
  {
   "cell_type": "code",
   "execution_count": 24,
   "id": "bff90fee",
   "metadata": {},
   "outputs": [],
   "source": [
    "H_PG = - PG_Yes/PG * np.log2(PG_Yes/PG) - PG_No/PG * np.log2(PG_No/PG)"
   ]
  },
  {
   "cell_type": "markdown",
   "id": "867a9852",
   "metadata": {},
   "source": [
    "H_PG"
   ]
  },
  {
   "cell_type": "code",
   "execution_count": 26,
   "id": "62380b49",
   "metadata": {},
   "outputs": [
    {
     "data": {
      "text/plain": [
       "Index(['Day', 'Outlook', 'Temperature', 'Humidity', 'Wind', 'Play Golf'], dtype='object')"
      ]
     },
     "execution_count": 26,
     "metadata": {},
     "output_type": "execute_result"
    }
   ],
   "source": [
    "df.columns"
   ]
  },
  {
   "cell_type": "code",
   "execution_count": 28,
   "id": "4f131523",
   "metadata": {},
   "outputs": [
    {
     "data": {
      "text/plain": [
       "14"
      ]
     },
     "execution_count": 28,
     "metadata": {},
     "output_type": "execute_result"
    }
   ],
   "source": [
    "Outlook = df['Outlook'].shape[0]\n",
    "Outlook"
   ]
  },
  {
   "cell_type": "code",
   "execution_count": 29,
   "id": "5634724c",
   "metadata": {},
   "outputs": [
    {
     "data": {
      "text/plain": [
       "Outlook   Play Golf\n",
       "Overcast  Yes          4\n",
       "Rain      Yes          3\n",
       "          No           2\n",
       "Sunny     No           3\n",
       "          Yes          2\n",
       "Name: Play Golf, dtype: int64"
      ]
     },
     "execution_count": 29,
     "metadata": {},
     "output_type": "execute_result"
    }
   ],
   "source": [
    "df.groupby('Outlook')['Play Golf'].value_counts()"
   ]
  },
  {
   "cell_type": "code",
   "execution_count": 30,
   "id": "1dd0f911",
   "metadata": {},
   "outputs": [
    {
     "data": {
      "text/plain": [
       "5"
      ]
     },
     "execution_count": 30,
     "metadata": {},
     "output_type": "execute_result"
    }
   ],
   "source": [
    "Sunny = df.groupby('Outlook')['Play Golf'].value_counts().loc['Sunny'].sum()\n",
    "Sunny"
   ]
  },
  {
   "cell_type": "code",
   "execution_count": 31,
   "id": "533984da",
   "metadata": {},
   "outputs": [
    {
     "data": {
      "text/plain": [
       "4"
      ]
     },
     "execution_count": 31,
     "metadata": {},
     "output_type": "execute_result"
    }
   ],
   "source": [
    "Overcast = df.groupby('Outlook')['Play Golf'].value_counts().loc['Overcast'].sum()\n",
    "Overcast"
   ]
  },
  {
   "cell_type": "code",
   "execution_count": 32,
   "id": "cc02c765",
   "metadata": {},
   "outputs": [
    {
     "data": {
      "text/plain": [
       "5"
      ]
     },
     "execution_count": 32,
     "metadata": {},
     "output_type": "execute_result"
    }
   ],
   "source": [
    "Rain = df.groupby('Outlook')['Play Golf'].value_counts().loc['Rain'].sum()\n",
    "Rain"
   ]
  },
  {
   "cell_type": "code",
   "execution_count": 34,
   "id": "2c958168",
   "metadata": {},
   "outputs": [
    {
     "data": {
      "text/plain": [
       "9"
      ]
     },
     "execution_count": 34,
     "metadata": {},
     "output_type": "execute_result"
    }
   ],
   "source": [
    "Outlook_Y = df.groupby('Outlook')['Play Golf'].value_counts().loc[:,'Yes'].sum()\n",
    "Outlook_Y"
   ]
  },
  {
   "cell_type": "code",
   "execution_count": 35,
   "id": "03da777d",
   "metadata": {},
   "outputs": [
    {
     "data": {
      "text/plain": [
       "5"
      ]
     },
     "execution_count": 35,
     "metadata": {},
     "output_type": "execute_result"
    }
   ],
   "source": [
    "Outlook_N = df.groupby('Outlook')['Play Golf'].value_counts().loc[:,'No'].sum()\n",
    "Outlook_N"
   ]
  },
  {
   "cell_type": "code",
   "execution_count": 39,
   "id": "2abb1c41",
   "metadata": {},
   "outputs": [],
   "source": [
    "Sunny_Y = df.groupby('Outlook')['Play Golf'].value_counts().loc['Sunny'].get('Yes', 0)\n",
    "Sunny_N = df.groupby('Outlook')['Play Golf'].value_counts().loc['Sunny'].get('No', 0)\n",
    "Overcast_Y = df.groupby('Outlook')['Play Golf'].value_counts().loc['Overcast'].get('Yes', 0)\n",
    "Rain_Y = df.groupby('Outlook')['Play Golf'].value_counts().loc['Rain'].get('Yes', 0)\n",
    "Rain_N = df.groupby('Outlook')['Play Golf'].value_counts().loc['Rain'].get('No', 0)"
   ]
  },
  {
   "cell_type": "code",
   "execution_count": 40,
   "id": "a4dd15c1",
   "metadata": {},
   "outputs": [
    {
     "data": {
      "text/plain": [
       "2"
      ]
     },
     "execution_count": 40,
     "metadata": {},
     "output_type": "execute_result"
    }
   ],
   "source": [
    "Sunny_Y"
   ]
  },
  {
   "cell_type": "code",
   "execution_count": 41,
   "id": "2533758c",
   "metadata": {},
   "outputs": [
    {
     "data": {
      "text/plain": [
       "3"
      ]
     },
     "execution_count": 41,
     "metadata": {},
     "output_type": "execute_result"
    }
   ],
   "source": [
    "Sunny_N"
   ]
  },
  {
   "cell_type": "code",
   "execution_count": 42,
   "id": "b4a980d1",
   "metadata": {},
   "outputs": [
    {
     "data": {
      "text/plain": [
       "4"
      ]
     },
     "execution_count": 42,
     "metadata": {},
     "output_type": "execute_result"
    }
   ],
   "source": [
    "Overcast_Y"
   ]
  },
  {
   "cell_type": "code",
   "execution_count": 43,
   "id": "cde6cc46",
   "metadata": {},
   "outputs": [
    {
     "data": {
      "text/plain": [
       "3"
      ]
     },
     "execution_count": 43,
     "metadata": {},
     "output_type": "execute_result"
    }
   ],
   "source": [
    "Rain_Y"
   ]
  },
  {
   "cell_type": "code",
   "execution_count": 44,
   "id": "0cb4f9fb",
   "metadata": {},
   "outputs": [
    {
     "data": {
      "text/plain": [
       "2"
      ]
     },
     "execution_count": 44,
     "metadata": {},
     "output_type": "execute_result"
    }
   ],
   "source": [
    "Rain_N"
   ]
  },
  {
   "cell_type": "code",
   "execution_count": 45,
   "id": "bd731006",
   "metadata": {},
   "outputs": [],
   "source": [
    "Ent_Outlook = - Outlook_Y/Outlook * np.log2(Outlook_Y/Outlook) - Outlook_N/Outlook * np.log2(Outlook_N/Outlook)"
   ]
  },
  {
   "cell_type": "code",
   "execution_count": 46,
   "id": "7861fe0d",
   "metadata": {},
   "outputs": [
    {
     "data": {
      "text/plain": [
       "0.9402859586706311"
      ]
     },
     "execution_count": 46,
     "metadata": {},
     "output_type": "execute_result"
    }
   ],
   "source": [
    "Ent_Outlook"
   ]
  },
  {
   "cell_type": "code",
   "execution_count": 48,
   "id": "a8c8668d",
   "metadata": {},
   "outputs": [
    {
     "data": {
      "text/plain": [
       "0.9709505944546686"
      ]
     },
     "execution_count": 48,
     "metadata": {},
     "output_type": "execute_result"
    }
   ],
   "source": [
    "Ent_Sunny = - Sunny_Y/Sunny * np.log2(Sunny_Y/Sunny) - Sunny_N/Sunny * np.log2(Sunny_N/Sunny)\n",
    "Ent_Sunny"
   ]
  },
  {
   "cell_type": "code",
   "execution_count": 49,
   "id": "f8d7675f",
   "metadata": {},
   "outputs": [
    {
     "data": {
      "text/plain": [
       "-0.0"
      ]
     },
     "execution_count": 49,
     "metadata": {},
     "output_type": "execute_result"
    }
   ],
   "source": [
    "Ent_Overcast = - Overcast_Y/Overcast * np.log2(Overcast_Y/Overcast) \n",
    "Ent_Overcast"
   ]
  },
  {
   "cell_type": "code",
   "execution_count": 50,
   "id": "5ea6e8ec",
   "metadata": {},
   "outputs": [
    {
     "data": {
      "text/plain": [
       "0.9709505944546686"
      ]
     },
     "execution_count": 50,
     "metadata": {},
     "output_type": "execute_result"
    }
   ],
   "source": [
    "Ent_Rain = - Rain_Y/Rain * np.log2(Rain_Y/Rain) - Rain_N/Rain * np.log2(Rain_N/Rain)\n",
    "Ent_Rain"
   ]
  },
  {
   "cell_type": "markdown",
   "id": "a47e82f3",
   "metadata": {},
   "source": [
    "### ID3 (Iterative Dichotomize)\n",
    "- ID3 algorithm is used to build the decision tree\n",
    "- It utilizes entropy and information gain to build the tree\n",
    "- Uses Information Theory (Entropy) to split on an attribute that gives the highest information gain\n",
    "- ~ It is a top-down greedy search of possible branches\n",
    "\n",
    "0.9709505944546686\n",
    "$Gain (Outlook) = Entropy (Outlook) - \\sum\\limits_{\\in (Sunny, Overcast, Rain) } \\frac{|S_{v}|}{|S|} Entropy(S_{v})$ "
   ]
  },
  {
   "cell_type": "code",
   "execution_count": 51,
   "id": "076fb977",
   "metadata": {},
   "outputs": [
    {
     "data": {
      "text/plain": [
       "0.24674981977443933"
      ]
     },
     "execution_count": 51,
     "metadata": {},
     "output_type": "execute_result"
    }
   ],
   "source": [
    "Gain_Outlook = Ent_Outlook - Sunny/Outlook * Ent_Sunny - Overcast/Outlook * Ent_Overcast - Rain/Outlook * Ent_Rain\n",
    "Gain_Outlook"
   ]
  },
  {
   "cell_type": "code",
   "execution_count": 52,
   "id": "ffd65091",
   "metadata": {},
   "outputs": [
    {
     "data": {
      "text/plain": [
       "Index(['Day', 'Outlook', 'Temperature', 'Humidity', 'Wind', 'Play Golf'], dtype='object')"
      ]
     },
     "execution_count": 52,
     "metadata": {},
     "output_type": "execute_result"
    }
   ],
   "source": [
    "df.columns"
   ]
  },
  {
   "cell_type": "code",
   "execution_count": 53,
   "id": "7466b50e",
   "metadata": {},
   "outputs": [],
   "source": [
    "### Complete before next class 'Temperature', 'Humidity', 'Wind'"
   ]
  },
  {
   "cell_type": "code",
   "execution_count": null,
   "id": "aebfd33e",
   "metadata": {},
   "outputs": [],
   "source": []
  }
 ],
 "metadata": {
  "kernelspec": {
   "display_name": "Python 3 (ipykernel)",
   "language": "python",
   "name": "python3"
  },
  "language_info": {
   "codemirror_mode": {
    "name": "ipython",
    "version": 3
   },
   "file_extension": ".py",
   "mimetype": "text/x-python",
   "name": "python",
   "nbconvert_exporter": "python",
   "pygments_lexer": "ipython3",
   "version": "3.10.9"
  }
 },
 "nbformat": 4,
 "nbformat_minor": 5
}
