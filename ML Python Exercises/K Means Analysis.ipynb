{
 "cells": [
  {
   "cell_type": "markdown",
   "id": "b42d0dd0",
   "metadata": {},
   "source": [
    "# Unsupervised Learning\n",
    "\n",
    "## 1. K-means Clustering\n",
    "> In this this exercise, you will implement the K-means algorithm and use it\n",
    "for image compression.\n",
    "\n",
    "### 1.1 Implementing K-means\n",
    "\n",
    "> The K-means algorithm is a method to automatically cluster similar data examples together. The intuition behind K-means is an iterative procedure that starts by guess- ing the initial centroids, and then refines this guess by repeatedly assigning examples to their closest centroids and then recomputing the centroids based on the assignments.\n",
    "\n",
    "#### 1.1.1 Finding Closest Centroids\n",
    "\n",
    "For every example $i$ we set $c_{(i)} := j$ that minimizes $||x^{(i)}-\\mu_j||^2$ where $c_{(i)}$ is the index of the centroid that is closest to $x^{(i)}$, and $\\mu_j$ is the position (value) of the j'th centroid."
   ]
  },
  {
   "cell_type": "code",
   "execution_count": 1,
   "id": "fd90ea10",
   "metadata": {},
   "outputs": [],
   "source": [
    "import numpy as np\n",
    "import pandas as pd\n",
    "import seaborn as sns"
   ]
  },
  {
   "cell_type": "code",
   "execution_count": 8,
   "id": "0aa2cf8a",
   "metadata": {},
   "outputs": [],
   "source": [
    "def find_closest_centroid(X, centroids):\n",
    "    idx = np.zeros((X.shape[0], 1))\n",
    "    #print(idx)\n",
    "    for i in range(X.shape[0]):\n",
    "        idx[i] = np.argmin(np.sqrt(np.sum((X[i,:] - centroids)**2, axis=1))) + 1\n",
    "        #print(idx[i])\n",
    "    return idx"
   ]
  },
  {
   "cell_type": "code",
   "execution_count": 29,
   "id": "01ab8cf2",
   "metadata": {
    "scrolled": false
   },
   "outputs": [
    {
     "name": "stdout",
     "output_type": "stream",
     "text": [
      "3\n",
      "(8, 2)\n",
      "2\n",
      "[[0. 0.]\n",
      " [0. 0.]\n",
      " [0. 0.]]\n",
      "[ 2 10]\n"
     ]
    }
   ],
   "source": [
    "print(K)\n",
    "print(X.shape)\n",
    "print(X.shape[1])\n",
    "print(np.zeros((K, X.shape[1])))\n",
    "print(X[0,:])"
   ]
  },
  {
   "cell_type": "code",
   "execution_count": 35,
   "id": "cca0c65c",
   "metadata": {},
   "outputs": [
    {
     "name": "stdout",
     "output_type": "stream",
     "text": [
      "[[0. 0.]\n",
      " [0. 0.]\n",
      " [0. 0.]]\n",
      "[[ 2 10]]\n",
      "[[8 4]\n",
      " [5 8]\n",
      " [7 5]\n",
      " [6 4]\n",
      " [4 9]]\n",
      "[[2 5]\n",
      " [1 2]]\n"
     ]
    }
   ],
   "source": [
    "print(np.zeros((3, X.shape[1])))\n",
    "# X[(idx==-i+1).T[0],:]\n",
    "print(X[(clusters==0+1).T[0],:])\n",
    "print(X[(clusters==1+1).T[0],:])\n",
    "print(X[(clusters==2+1).T[0],:])"
   ]
  },
  {
   "cell_type": "code",
   "execution_count": 36,
   "id": "8dbe2fff",
   "metadata": {},
   "outputs": [],
   "source": [
    "def compute_centroids(X, idx, K):\n",
    "    centroids = np.zeros((K, X.shape[1]))\n",
    "    for i in range(K):\n",
    "        centroids[i,:] = np.mean(X[(idx==i+1).T[0],:], axis=0)\n",
    "        #print(centroids[i,:])\n",
    "        #print(X[(idx==-i+1), :])\n",
    "        #print(X[(idx==-i+1).T[0], :]\n",
    "    return centroids"
   ]
  },
  {
   "cell_type": "code",
   "execution_count": 37,
   "id": "baee9b37",
   "metadata": {},
   "outputs": [],
   "source": [
    "K =3 # clusters\n",
    "X = np.array([[2,10], [2,5], [8,4], [5,8], [7,5], [6,4], [1,2], [4,9]])\n",
    "# from excel A1, B1, C1 are intial centroids\n",
    "initial_centroids = np.array([[2,10], [5,8], [1,2]])"
   ]
  },
  {
   "cell_type": "code",
   "execution_count": 38,
   "id": "135cf02b",
   "metadata": {},
   "outputs": [
    {
     "name": "stdout",
     "output_type": "stream",
     "text": [
      "[[ 2 10]\n",
      " [ 5  8]\n",
      " [ 1  2]]\n",
      "X [ 2 10] cluster[1.]\n",
      "X [2 5] cluster[3.]\n",
      "X [8 4] cluster[2.]\n",
      "X [5 8] cluster[2.]\n",
      "X [7 5] cluster[2.]\n",
      "X [6 4] cluster[2.]\n",
      "X [1 2] cluster[3.]\n",
      "X [4 9] cluster[2.]\n"
     ]
    }
   ],
   "source": [
    "clusters = find_closest_centroid(X, initial_centroids)\n",
    "print(initial_centroids)\n",
    "for i in range(X.shape[0]):\n",
    "    print('X {} cluster{}'.format(X[i], clusters[i]))"
   ]
  },
  {
   "cell_type": "code",
   "execution_count": 39,
   "id": "c691b3c6",
   "metadata": {},
   "outputs": [
    {
     "name": "stdout",
     "output_type": "stream",
     "text": [
      "[[ 2 10]\n",
      " [ 2  5]\n",
      " [ 8  4]\n",
      " [ 5  8]\n",
      " [ 7  5]\n",
      " [ 6  4]\n",
      " [ 1  2]\n",
      " [ 4  9]]\n",
      "[[1.]\n",
      " [3.]\n",
      " [2.]\n",
      " [2.]\n",
      " [2.]\n",
      " [2.]\n",
      " [3.]\n",
      " [2.]]\n",
      "3\n"
     ]
    }
   ],
   "source": [
    "print(X)\n",
    "print(clusters)\n",
    "print(K)"
   ]
  },
  {
   "cell_type": "code",
   "execution_count": 40,
   "id": "0bce4acc",
   "metadata": {},
   "outputs": [
    {
     "data": {
      "text/plain": [
       "range(0, 3)"
      ]
     },
     "execution_count": 40,
     "metadata": {},
     "output_type": "execute_result"
    }
   ],
   "source": [
    "range(3)"
   ]
  },
  {
   "cell_type": "code",
   "execution_count": 43,
   "id": "8decfee3",
   "metadata": {},
   "outputs": [
    {
     "name": "stdout",
     "output_type": "stream",
     "text": [
      "[[3.   9.5 ]\n",
      " [6.5  5.25]\n",
      " [1.5  3.5 ]]\n",
      "X [ 2 10] cluster [1.]\n",
      "X [2 5] cluster [3.]\n",
      "X [8 4] cluster [2.]\n",
      "X [5 8] cluster [1.]\n",
      "X [7 5] cluster [2.]\n",
      "X [6 4] cluster [2.]\n",
      "X [1 2] cluster [3.]\n",
      "X [4 9] cluster [1.]\n"
     ]
    }
   ],
   "source": [
    "new_centroids = compute_centroids(X, clusters, K)\n",
    "print(new_centroids)\n",
    "clusters = find_closest_centroid(X, new_centroids)\n",
    "for i in range(X.shape[0]):\n",
    "    print('X {} cluster {}'.format(X[i], clusters[i]))"
   ]
  },
  {
   "cell_type": "code",
   "execution_count": 44,
   "id": "d87b6488",
   "metadata": {},
   "outputs": [
    {
     "name": "stdout",
     "output_type": "stream",
     "text": [
      "[[3.66666667 9.        ]\n",
      " [7.         4.33333333]\n",
      " [1.5        3.5       ]]\n",
      "X [ 2 10] cluster [1.]\n",
      "X [2 5] cluster [3.]\n",
      "X [8 4] cluster [2.]\n",
      "X [5 8] cluster [1.]\n",
      "X [7 5] cluster [2.]\n",
      "X [6 4] cluster [2.]\n",
      "X [1 2] cluster [3.]\n",
      "X [4 9] cluster [1.]\n"
     ]
    }
   ],
   "source": [
    "new_centroids = compute_centroids(X, clusters, K)\n",
    "print(new_centroids)\n",
    "clusters = find_closest_centroid(X, new_centroids)\n",
    "for i in range(X.shape[0]):\n",
    "    print('X {} cluster {}'.format(X[i], clusters[i]))"
   ]
  },
  {
   "cell_type": "code",
   "execution_count": 45,
   "id": "31874b86",
   "metadata": {},
   "outputs": [
    {
     "name": "stdout",
     "output_type": "stream",
     "text": [
      "[[3.66666667 9.        ]\n",
      " [7.         4.33333333]\n",
      " [1.5        3.5       ]]\n",
      "X [ 2 10] cluster [1.]\n",
      "X [2 5] cluster [3.]\n",
      "X [8 4] cluster [2.]\n",
      "X [5 8] cluster [1.]\n",
      "X [7 5] cluster [2.]\n",
      "X [6 4] cluster [2.]\n",
      "X [1 2] cluster [3.]\n",
      "X [4 9] cluster [1.]\n"
     ]
    }
   ],
   "source": [
    "new_centroids = compute_centroids(X, clusters, K)\n",
    "print(new_centroids)\n",
    "clusters = find_closest_centroid(X, new_centroids)\n",
    "for i in range(X.shape[0]):\n",
    "    print('X {} cluster {}'.format(X[i], clusters[i]))"
   ]
  },
  {
   "cell_type": "code",
   "execution_count": null,
   "id": "8744ccd8",
   "metadata": {},
   "outputs": [],
   "source": []
  }
 ],
 "metadata": {
  "kernelspec": {
   "display_name": "Python 3 (ipykernel)",
   "language": "python",
   "name": "python3"
  },
  "language_info": {
   "codemirror_mode": {
    "name": "ipython",
    "version": 3
   },
   "file_extension": ".py",
   "mimetype": "text/x-python",
   "name": "python",
   "nbconvert_exporter": "python",
   "pygments_lexer": "ipython3",
   "version": "3.10.9"
  }
 },
 "nbformat": 4,
 "nbformat_minor": 5
}
