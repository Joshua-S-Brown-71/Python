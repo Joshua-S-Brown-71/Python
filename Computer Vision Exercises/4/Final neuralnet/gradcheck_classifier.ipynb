{
 "cells": [
  {
   "cell_type": "code",
   "execution_count": 1,
   "id": "85760d73",
   "metadata": {},
   "outputs": [
    {
     "name": "stdout",
     "output_type": "stream",
     "text": [
      "Running numeric gradient check for LinearClassifier\n",
      "  Max diff for grad_W:  4.2837955405161665e-13\n",
      "  Max diff for grad_b:  9.681144774731365e-14\n",
      "Running numeric gradient check for TwoLayerNet\n",
      "  Max diff for grad_W1:  7.480994990149981e-16\n",
      "  Max diff for grad_b1:  7.556889142223966e-16\n",
      "  Max diff for grad_W2:  4.500523217987329e-16\n",
      "  Max diff for grad_b2:  4.440892098500626e-16\n"
     ]
    }
   ],
   "source": [
    "import numpy as np\n",
    "from linear_classifier import LinearClassifier\n",
    "from two_layer_net import TwoLayerNet\n",
    "from utils import numeric_backward\n",
    "\n",
    "\n",
    "def classifier_numeric_backward(model, X, grad_scores):\n",
    "    numeric_grads = {}\n",
    "    for k, param in model.parameters().items():\n",
    "        def f(_):\n",
    "            old_val = param.copy()\n",
    "            param[:] = _\n",
    "            scores, _ = model.forward(X)\n",
    "            param[:] = old_val\n",
    "            return scores\n",
    "        numeric_grads[k] = numeric_backward(f, param, grad_scores)\n",
    "    return numeric_grads\n",
    "\n",
    "\n",
    "def gradcheck_classifier(model, X, grad_scores):\n",
    "    scores, cache = model.forward(X)\n",
    "    grads = model.backward(grad_scores, cache)\n",
    "    numeric_grads = classifier_numeric_backward(model, X, grad_scores)\n",
    "    assert grads.keys() == numeric_grads.keys()\n",
    "    for k, grad in grads.items():\n",
    "        numeric_grad = numeric_grads[k]\n",
    "        max_diff = np.abs(grad - numeric_grad).max()\n",
    "        print(f'  Max diff for grad_{k}: ', max_diff)\n",
    "\n",
    "\n",
    "def gradcheck_linear_classifier():\n",
    "    print('Running numeric gradient check for LinearClassifier')\n",
    "    N, D, C = 3, 4, 5\n",
    "    model = LinearClassifier(D, C)\n",
    "\n",
    "    X = np.random.randn(N, D)\n",
    "    grad_scores = np.random.randn(N, C)\n",
    "\n",
    "    gradcheck_classifier(model, X, grad_scores)\n",
    "\n",
    "\n",
    "def gradcheck_two_layer_net():\n",
    "    print('Running numeric gradient check for TwoLayerNet')\n",
    "    N, D, C, H = 3, 4, 5, 6\n",
    "    model = TwoLayerNet(D, C, H)\n",
    "\n",
    "    X = np.random.randn(N, D)\n",
    "    grad_scores = np.random.randn(N, C)\n",
    "\n",
    "    gradcheck_classifier(model, X, grad_scores)\n",
    "\n",
    "\n",
    "def main():\n",
    "    gradcheck_linear_classifier()\n",
    "    gradcheck_two_layer_net()\n",
    "\n",
    "\n",
    "if __name__ == '__main__':\n",
    "    main()\n"
   ]
  },
  {
   "cell_type": "code",
   "execution_count": null,
   "id": "6ee6e4c4",
   "metadata": {},
   "outputs": [],
   "source": []
  },
  {
   "cell_type": "code",
   "execution_count": null,
   "id": "5c9683ad",
   "metadata": {},
   "outputs": [],
   "source": []
  },
  {
   "cell_type": "code",
   "execution_count": null,
   "id": "f1d54bda",
   "metadata": {},
   "outputs": [],
   "source": []
  }
 ],
 "metadata": {
  "kernelspec": {
   "display_name": "Python 3 (ipykernel)",
   "language": "python",
   "name": "python3"
  },
  "language_info": {
   "codemirror_mode": {
    "name": "ipython",
    "version": 3
   },
   "file_extension": ".py",
   "mimetype": "text/x-python",
   "name": "python",
   "nbconvert_exporter": "python",
   "pygments_lexer": "ipython3",
   "version": "3.10.9"
  }
 },
 "nbformat": 4,
 "nbformat_minor": 5
}
