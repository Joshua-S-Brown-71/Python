{
 "cells": [
  {
   "cell_type": "code",
   "execution_count": 1,
   "id": "a621d9b4",
   "metadata": {},
   "outputs": [
    {
     "name": "stdout",
     "output_type": "stream",
     "text": [
      "Input scores:\n",
      "[[    0. -1000. -2000.]\n",
      " [-2000.     0. -1000.]\n",
      " [-1000. -2000.     0.]]\n",
      "Input labels: [0 1 2]\n",
      "Output loss: -0.0\n",
      "It seems like your softmax_loss is numerically stable!\n"
     ]
    }
   ],
   "source": [
    "import numpy as np\n",
    "from layers import softmax_loss\n",
    "\n",
    "\n",
    "\"\"\" A simple test-case to check the numeric stability of softmax_loss \"\"\"\n",
    "\n",
    "\n",
    "def main():\n",
    "    big = 1e3\n",
    "    x = np.array([\n",
    "          [big, 0, -big],  # noqa: E126\n",
    "          [-big, big, 0],  # noqa: E126\n",
    "          [0, -big, big],  # noqa: E126\n",
    "        ])                 # noqa: E126\n",
    "    y = np.array([0, 1, 2])\n",
    "    loss, _ = softmax_loss(x, y)\n",
    "    if loss is None:\n",
    "        print('You have not yet implemented softmax_loss')\n",
    "        return\n",
    "    print('Input scores:')\n",
    "    print(x)\n",
    "    print(f'Input labels: {y}')\n",
    "    print(f'Output loss: {loss}')\n",
    "    if np.isnan(loss):\n",
    "        print('Your softmax_loss gave a NaN with big input values.')\n",
    "        print('Did you forget to implement the max-subtraction trick?')\n",
    "    else:\n",
    "        print('It seems like your softmax_loss is numerically stable!')\n",
    "\n",
    "\n",
    "if __name__ == '__main__':\n",
    "    main()\n"
   ]
  },
  {
   "cell_type": "code",
   "execution_count": null,
   "id": "fd140c94",
   "metadata": {},
   "outputs": [],
   "source": []
  }
 ],
 "metadata": {
  "kernelspec": {
   "display_name": "Python 3 (ipykernel)",
   "language": "python",
   "name": "python3"
  },
  "language_info": {
   "codemirror_mode": {
    "name": "ipython",
    "version": 3
   },
   "file_extension": ".py",
   "mimetype": "text/x-python",
   "name": "python",
   "nbconvert_exporter": "python",
   "pygments_lexer": "ipython3",
   "version": "3.10.9"
  }
 },
 "nbformat": 4,
 "nbformat_minor": 5
}
